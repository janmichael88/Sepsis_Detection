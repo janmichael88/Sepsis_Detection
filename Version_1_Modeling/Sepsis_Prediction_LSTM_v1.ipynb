{
 "cells": [
  {
   "cell_type": "code",
   "execution_count": 2,
   "metadata": {},
   "outputs": [],
   "source": [
    "import pandas as pd\n",
    "import os \n",
    "import numpy as np\n",
    "import matplotlib.pyplot as plt\n",
    "import seaborn as sns\n",
    "import time\n",
    "pd.set_option('display.max_columns', None)\n",
    "pd.set_option('display.max_rows', None)\n",
    "%matplotlib inline"
   ]
  },
  {
   "cell_type": "code",
   "execution_count": 17,
   "metadata": {},
   "outputs": [],
   "source": [
    "#keras dependencies\n",
    "from keras.models import Model\n",
    "from keras.layers import Input,Dense\n",
    "from keras.layers import LSTM\n",
    "import tensorflow as tf\n",
    "import keras\n",
    "from numpy import array\n",
    "from keras.preprocessing.text import one_hot\n",
    "from keras.preprocessing.sequence import pad_sequences\n",
    "from keras.models import Sequential\n",
    "from keras.layers.core import Activation, Dropout, Dense\n",
    "from keras.layers import Flatten, LSTM\n",
    "from keras.layers import GlobalMaxPooling1D\n",
    "from keras.models import Model\n",
    "from keras.layers.embeddings import Embedding\n",
    "from sklearn.model_selection import train_test_split\n",
    "from keras.preprocessing.text import Tokenizer\n",
    "from keras.layers import Input\n",
    "from keras.layers.merge import Concatenate\n",
    "from keras.layers import Bidirectional\n",
    "from keras.layers import TimeDistributed, BatchNormalization\n",
    "from keras.callbacks import EarlyStopping, ModelCheckpoint\n"
   ]
  },
  {
   "cell_type": "markdown",
   "metadata": {},
   "source": [
    "Load in inputs"
   ]
  },
  {
   "cell_type": "code",
   "execution_count": 5,
   "metadata": {},
   "outputs": [
    {
     "data": {
      "text/plain": [
       "((39680, 100, 35), (39680, 100, 1))"
      ]
     },
     "execution_count": 5,
     "metadata": {},
     "output_type": "execute_result"
    }
   ],
   "source": [
    "X_s = np.load('Xs_window_100.npy')\n",
    "y_s = np.load('Ys_window_100.npy')\n",
    "X_s.shape,y_s.shape"
   ]
  },
  {
   "cell_type": "markdown",
   "metadata": {},
   "source": [
    "Recall Class Weights"
   ]
  },
  {
   "cell_type": "code",
   "execution_count": 6,
   "metadata": {},
   "outputs": [
    {
     "data": {
      "text/plain": [
       "{0.0: 0.5319462691369279, 1.0: 8.325639949643307}"
      ]
     },
     "execution_count": 6,
     "metadata": {},
     "output_type": "execute_result"
    }
   ],
   "source": [
    "from sklearn.utils import class_weight\n",
    "class_weights = class_weight.compute_class_weight('balanced',\n",
    "                                                 np.unique(y_s.flatten()),\n",
    "                                                 y_s.flatten())\n",
    "class_weights = dict(zip(np.unique(y_s.flatten()),class_weights))\n",
    "class_weights"
   ]
  },
  {
   "cell_type": "markdown",
   "metadata": {},
   "source": [
    "Shuffle"
   ]
  },
  {
   "cell_type": "code",
   "execution_count": 7,
   "metadata": {},
   "outputs": [],
   "source": [
    "from sklearn.utils import shuffle\n",
    "X_s,y_s = shuffle(X_s,y_s)"
   ]
  },
  {
   "cell_type": "code",
   "execution_count": 25,
   "metadata": {
    "scrolled": true
   },
   "outputs": [
    {
     "name": "stdout",
     "output_type": "stream",
     "text": [
      "[array([[[0.5       ],\n",
      "        [0.5       ],\n",
      "        [0.47713014],\n",
      "        [0.42390424],\n",
      "        [0.5       ],\n",
      "        [0.24807641],\n",
      "        [0.5       ],\n",
      "        [0.5       ],\n",
      "        [0.48230603],\n",
      "        [0.25430834],\n",
      "        [0.4588678 ],\n",
      "        [0.42390424],\n",
      "        [0.42390424],\n",
      "        [0.31669584],\n",
      "        [0.38870165],\n",
      "        [0.4082429 ],\n",
      "        [0.42390424],\n",
      "        [0.5       ],\n",
      "        [0.5757173 ],\n",
      "        [0.5       ],\n",
      "        [0.4599601 ],\n",
      "        [0.31669584],\n",
      "        [0.25371087],\n",
      "        [0.25430834],\n",
      "        [0.31669584],\n",
      "        [0.44143763],\n",
      "        [0.2742034 ],\n",
      "        [0.26801273],\n",
      "        [0.21223676],\n",
      "        [0.26801273],\n",
      "        [0.24016902],\n",
      "        [0.23400828],\n",
      "        [0.21151605],\n",
      "        [0.21141842],\n",
      "        [0.26705194],\n",
      "        [0.26407075],\n",
      "        [0.21140516],\n",
      "        [0.23404387],\n",
      "        [0.22045454],\n",
      "        [0.42390424],\n",
      "        [0.42390424],\n",
      "        [0.31669584],\n",
      "        [0.44499427],\n",
      "        [0.39056873],\n",
      "        [0.29974213],\n",
      "        [0.27164567],\n",
      "        [0.24626583],\n",
      "        [0.3334762 ],\n",
      "        [0.34967157],\n",
      "        [0.34342927],\n",
      "        [0.44759148],\n",
      "        [0.38189265],\n",
      "        [0.34342927],\n",
      "        [0.38762617],\n",
      "        [0.4154979 ],\n",
      "        [0.5076448 ],\n",
      "        [0.42390424],\n",
      "        [0.25772083],\n",
      "        [0.23330325],\n",
      "        [0.5       ],\n",
      "        [0.23330325],\n",
      "        [0.23330325],\n",
      "        [0.2890764 ],\n",
      "        [0.25430834],\n",
      "        [0.2628739 ],\n",
      "        [0.42390424],\n",
      "        [0.42390424],\n",
      "        [0.44702372],\n",
      "        [0.5       ],\n",
      "        [0.42390424],\n",
      "        [0.25431532],\n",
      "        [0.29002476],\n",
      "        [0.5       ],\n",
      "        [0.37066746],\n",
      "        [0.42390424],\n",
      "        [0.44104862],\n",
      "        [0.29871804],\n",
      "        [0.2740175 ],\n",
      "        [0.2614562 ],\n",
      "        [0.21520752],\n",
      "        [0.21520752],\n",
      "        [0.22228417],\n",
      "        [0.5413213 ],\n",
      "        [0.42390424],\n",
      "        [0.31669584],\n",
      "        [0.27127832],\n",
      "        [0.42390424],\n",
      "        [0.21313524],\n",
      "        [0.5       ],\n",
      "        [0.26730996],\n",
      "        [0.42390424],\n",
      "        [0.5       ],\n",
      "        [0.35450032],\n",
      "        [0.31669584],\n",
      "        [0.4414702 ],\n",
      "        [0.32308632],\n",
      "        [0.25991908],\n",
      "        [0.49355537],\n",
      "        [0.3387311 ],\n",
      "        [0.28678948]]], dtype=float32), array([[0.68277454]], dtype=float32)]\n"
     ]
    }
   ],
   "source": [
    "def create_LSTM_model(units=3, rows=100,cols=35):\n",
    "    # define model\n",
    "    inputs1 = Input(shape=(rows, cols))\n",
    "    lstm1, state_h, state_c = LSTM(units, return_sequences=True, return_state=True)(inputs1)\n",
    "    hidden_state_preds = Dense(1,activation='sigmoid',name='dense_1')(lstm1)\n",
    "    last_step_preds = Dense(1,activation='sigmoid',name='dense_2')(state_h)\n",
    "    model = Model(inputs=inputs1, outputs=[hidden_state_preds,last_step_preds])\n",
    "    return model\n",
    "model = create_LSTM_model()\n",
    "output = model.predict(X_s[41,:,:].reshape((1,100,35)))\n",
    "print(output)"
   ]
  },
  {
   "cell_type": "code",
   "execution_count": 26,
   "metadata": {
    "scrolled": true
   },
   "outputs": [
    {
     "name": "stdout",
     "output_type": "stream",
     "text": [
      "Train on 35712 samples, validate on 3968 samples\n",
      "Epoch 1/60\n",
      "35712/35712 [==============================] - 247s 7ms/step - loss: 1.4025 - dense_1_loss: 0.4853 - dense_2_loss: 0.9172 - dense_1_acc: 0.8621 - dense_2_acc: 0.2086 - val_loss: 1.3680 - val_dense_1_loss: 0.4649 - val_dense_2_loss: 0.9031 - val_dense_1_acc: 0.8666 - val_dense_2_acc: 0.2107\n",
      "Epoch 2/60\n",
      "35712/35712 [==============================] - 240s 7ms/step - loss: 1.3334 - dense_1_loss: 0.4551 - dense_2_loss: 0.8783 - dense_1_acc: 0.8724 - dense_2_acc: 0.2145 - val_loss: 1.2930 - val_dense_1_loss: 0.4430 - val_dense_2_loss: 0.8500 - val_dense_1_acc: 0.8760 - val_dense_2_acc: 0.2238\n",
      "Epoch 3/60\n",
      "35712/35712 [==============================] - 233s 7ms/step - loss: 1.2497 - dense_1_loss: 0.4416 - dense_2_loss: 0.8081 - dense_1_acc: 0.8806 - dense_2_acc: 0.2321 - val_loss: 1.2005 - val_dense_1_loss: 0.4399 - val_dense_2_loss: 0.7607 - val_dense_1_acc: 0.8828 - val_dense_2_acc: 0.2671\n",
      "Epoch 4/60\n",
      "35712/35712 [==============================] - 233s 7ms/step - loss: 1.1774 - dense_1_loss: 0.4364 - dense_2_loss: 0.7409 - dense_1_acc: 0.8880 - dense_2_acc: 0.5364 - val_loss: 1.1553 - val_dense_1_loss: 0.4313 - val_dense_2_loss: 0.7240 - val_dense_1_acc: 0.8898 - val_dense_2_acc: 0.6580\n",
      "Epoch 5/60\n",
      "35712/35712 [==============================] - 232s 6ms/step - loss: 1.1407 - dense_1_loss: 0.4271 - dense_2_loss: 0.7136 - dense_1_acc: 0.8936 - dense_2_acc: 0.6825 - val_loss: 1.1223 - val_dense_1_loss: 0.4218 - val_dense_2_loss: 0.7006 - val_dense_1_acc: 0.8950 - val_dense_2_acc: 0.7278\n",
      "Epoch 6/60\n",
      "35712/35712 [==============================] - 232s 7ms/step - loss: 1.1106 - dense_1_loss: 0.4169 - dense_2_loss: 0.6936 - dense_1_acc: 0.8984 - dense_2_acc: 0.7483 - val_loss: 1.0927 - val_dense_1_loss: 0.4114 - val_dense_2_loss: 0.6814 - val_dense_1_acc: 0.8997 - val_dense_2_acc: 0.7873\n",
      "Epoch 7/60\n",
      "35712/35712 [==============================] - 232s 7ms/step - loss: 1.0842 - dense_1_loss: 0.4071 - dense_2_loss: 0.6772 - dense_1_acc: 0.9024 - dense_2_acc: 0.7969 - val_loss: 1.0679 - val_dense_1_loss: 0.4018 - val_dense_2_loss: 0.6662 - val_dense_1_acc: 0.9028 - val_dense_2_acc: 0.8276\n",
      "Epoch 8/60\n",
      "35712/35712 [==============================] - 289s 8ms/step - loss: 1.0565 - dense_1_loss: 0.3963 - dense_2_loss: 0.6601 - dense_1_acc: 0.9058 - dense_2_acc: 0.8316 - val_loss: 1.0339 - val_dense_1_loss: 0.3888 - val_dense_2_loss: 0.6450 - val_dense_1_acc: 0.9064 - val_dense_2_acc: 0.8581\n",
      "Epoch 9/60\n",
      "35712/35712 [==============================] - 233s 7ms/step - loss: 1.0088 - dense_1_loss: 0.3796 - dense_2_loss: 0.6293 - dense_1_acc: 0.9087 - dense_2_acc: 0.8538 - val_loss: 0.9833 - val_dense_1_loss: 0.3716 - val_dense_2_loss: 0.6117 - val_dense_1_acc: 0.9091 - val_dense_2_acc: 0.8732\n",
      "Epoch 10/60\n",
      "35712/35712 [==============================] - 243s 7ms/step - loss: 0.9711 - dense_1_loss: 0.3663 - dense_2_loss: 0.6048 - dense_1_acc: 0.9117 - dense_2_acc: 0.8684 - val_loss: 0.9530 - val_dense_1_loss: 0.3607 - val_dense_2_loss: 0.5923 - val_dense_1_acc: 0.9123 - val_dense_2_acc: 0.8858\n",
      "Epoch 11/60\n",
      "35712/35712 [==============================] - 255s 7ms/step - loss: 0.9436 - dense_1_loss: 0.3567 - dense_2_loss: 0.5869 - dense_1_acc: 0.9141 - dense_2_acc: 0.8816 - val_loss: 0.9282 - val_dense_1_loss: 0.3520 - val_dense_2_loss: 0.5762 - val_dense_1_acc: 0.9149 - val_dense_2_acc: 0.8949\n",
      "Epoch 12/60\n",
      "35712/35712 [==============================] - 352s 10ms/step - loss: 0.9204 - dense_1_loss: 0.3483 - dense_2_loss: 0.5721 - dense_1_acc: 0.9170 - dense_2_acc: 0.8926 - val_loss: 0.9061 - val_dense_1_loss: 0.3439 - val_dense_2_loss: 0.5622 - val_dense_1_acc: 0.9179 - val_dense_2_acc: 0.9078\n",
      "Epoch 13/60\n",
      "35712/35712 [==============================] - 384s 11ms/step - loss: 0.8986 - dense_1_loss: 0.3405 - dense_2_loss: 0.5581 - dense_1_acc: 0.9195 - dense_2_acc: 0.9026 - val_loss: 0.8851 - val_dense_1_loss: 0.3365 - val_dense_2_loss: 0.5486 - val_dense_1_acc: 0.9202 - val_dense_2_acc: 0.9120\n",
      "Epoch 14/60\n",
      "35712/35712 [==============================] - 393s 11ms/step - loss: 0.8782 - dense_1_loss: 0.3333 - dense_2_loss: 0.5449 - dense_1_acc: 0.9218 - dense_2_acc: 0.9085 - val_loss: 0.8651 - val_dense_1_loss: 0.3296 - val_dense_2_loss: 0.5355 - val_dense_1_acc: 0.9224 - val_dense_2_acc: 0.9186\n",
      "Epoch 15/60\n",
      "35712/35712 [==============================] - 302s 8ms/step - loss: 0.8589 - dense_1_loss: 0.3268 - dense_2_loss: 0.5321 - dense_1_acc: 0.9237 - dense_2_acc: 0.9139 - val_loss: 0.8468 - val_dense_1_loss: 0.3234 - val_dense_2_loss: 0.5234 - val_dense_1_acc: 0.9241 - val_dense_2_acc: 0.9226\n",
      "Epoch 16/60\n",
      "35712/35712 [==============================] - 237s 7ms/step - loss: 0.8410 - dense_1_loss: 0.3207 - dense_2_loss: 0.5203 - dense_1_acc: 0.9254 - dense_2_acc: 0.9168 - val_loss: 0.8295 - val_dense_1_loss: 0.3176 - val_dense_2_loss: 0.5120 - val_dense_1_acc: 0.9255 - val_dense_2_acc: 0.9234\n",
      "Epoch 17/60\n",
      "35712/35712 [==============================] - 316s 9ms/step - loss: 0.8243 - dense_1_loss: 0.3152 - dense_2_loss: 0.5092 - dense_1_acc: 0.9268 - dense_2_acc: 0.9187 - val_loss: 0.8131 - val_dense_1_loss: 0.3122 - val_dense_2_loss: 0.5009 - val_dense_1_acc: 0.9267 - val_dense_2_acc: 0.9264\n",
      "Epoch 18/60\n",
      "35712/35712 [==============================] - 330s 9ms/step - loss: 0.8084 - dense_1_loss: 0.3100 - dense_2_loss: 0.4984 - dense_1_acc: 0.9278 - dense_2_acc: 0.9204 - val_loss: 0.7975 - val_dense_1_loss: 0.3072 - val_dense_2_loss: 0.4903 - val_dense_1_acc: 0.9280 - val_dense_2_acc: 0.9279\n",
      "Epoch 19/60\n",
      "35712/35712 [==============================] - 348s 10ms/step - loss: 0.7933 - dense_1_loss: 0.3051 - dense_2_loss: 0.4881 - dense_1_acc: 0.9288 - dense_2_acc: 0.9232 - val_loss: 0.7821 - val_dense_1_loss: 0.3024 - val_dense_2_loss: 0.4797 - val_dense_1_acc: 0.9289 - val_dense_2_acc: 0.9304\n",
      "Epoch 20/60\n",
      "35712/35712 [==============================] - 385s 11ms/step - loss: 0.7786 - dense_1_loss: 0.3004 - dense_2_loss: 0.4781 - dense_1_acc: 0.9298 - dense_2_acc: 0.9252 - val_loss: 0.7674 - val_dense_1_loss: 0.2979 - val_dense_2_loss: 0.4695 - val_dense_1_acc: 0.9297 - val_dense_2_acc: 0.9299\n",
      "Epoch 21/60\n",
      "35712/35712 [==============================] - 276s 8ms/step - loss: 0.7644 - dense_1_loss: 0.2961 - dense_2_loss: 0.4684 - dense_1_acc: 0.9305 - dense_2_acc: 0.9260 - val_loss: 0.7532 - val_dense_1_loss: 0.2936 - val_dense_2_loss: 0.4596 - val_dense_1_acc: 0.9308 - val_dense_2_acc: 0.9330\n",
      "Epoch 22/60\n",
      "35712/35712 [==============================] - 255s 7ms/step - loss: 0.7504 - dense_1_loss: 0.2918 - dense_2_loss: 0.4586 - dense_1_acc: 0.9316 - dense_2_acc: 0.9278 - val_loss: 0.7392 - val_dense_1_loss: 0.2893 - val_dense_2_loss: 0.4499 - val_dense_1_acc: 0.9320 - val_dense_2_acc: 0.9332\n",
      "Epoch 23/60\n",
      "35712/35712 [==============================] - 348s 10ms/step - loss: 0.7368 - dense_1_loss: 0.2876 - dense_2_loss: 0.4492 - dense_1_acc: 0.9326 - dense_2_acc: 0.9283 - val_loss: 0.7258 - val_dense_1_loss: 0.2853 - val_dense_2_loss: 0.4406 - val_dense_1_acc: 0.9330 - val_dense_2_acc: 0.9342\n",
      "Epoch 24/60\n",
      "35712/35712 [==============================] - 403s 11ms/step - loss: 0.7238 - dense_1_loss: 0.2837 - dense_2_loss: 0.4401 - dense_1_acc: 0.9339 - dense_2_acc: 0.9294 - val_loss: 0.7130 - val_dense_1_loss: 0.2815 - val_dense_2_loss: 0.4315 - val_dense_1_acc: 0.9349 - val_dense_2_acc: 0.9350\n",
      "Epoch 25/60\n",
      "35712/35712 [==============================] - 388s 11ms/step - loss: 0.7112 - dense_1_loss: 0.2801 - dense_2_loss: 0.4311 - dense_1_acc: 0.9351 - dense_2_acc: 0.9306 - val_loss: 0.7003 - val_dense_1_loss: 0.2779 - val_dense_2_loss: 0.4224 - val_dense_1_acc: 0.9355 - val_dense_2_acc: 0.9370\n",
      "Epoch 26/60\n",
      "35712/35712 [==============================] - 322s 9ms/step - loss: 0.6988 - dense_1_loss: 0.2765 - dense_2_loss: 0.4223 - dense_1_acc: 0.9356 - dense_2_acc: 0.9312 - val_loss: 0.6879 - val_dense_1_loss: 0.2745 - val_dense_2_loss: 0.4134 - val_dense_1_acc: 0.9358 - val_dense_2_acc: 0.9378\n",
      "Epoch 27/60\n"
     ]
    },
    {
     "name": "stdout",
     "output_type": "stream",
     "text": [
      "35712/35712 [==============================] - 231s 6ms/step - loss: 0.6868 - dense_1_loss: 0.2731 - dense_2_loss: 0.4138 - dense_1_acc: 0.9360 - dense_2_acc: 0.9323 - val_loss: 0.6761 - val_dense_1_loss: 0.2711 - val_dense_2_loss: 0.4050 - val_dense_1_acc: 0.9366 - val_dense_2_acc: 0.9390\n",
      "Epoch 28/60\n",
      "35712/35712 [==============================] - 278s 8ms/step - loss: 0.6753 - dense_1_loss: 0.2698 - dense_2_loss: 0.4055 - dense_1_acc: 0.9367 - dense_2_acc: 0.9339 - val_loss: 0.6648 - val_dense_1_loss: 0.2680 - val_dense_2_loss: 0.3968 - val_dense_1_acc: 0.9370 - val_dense_2_acc: 0.9400\n",
      "Epoch 29/60\n",
      "35712/35712 [==============================] - 305s 9ms/step - loss: 0.6642 - dense_1_loss: 0.2667 - dense_2_loss: 0.3975 - dense_1_acc: 0.9369 - dense_2_acc: 0.9349 - val_loss: 0.6537 - val_dense_1_loss: 0.2651 - val_dense_2_loss: 0.3887 - val_dense_1_acc: 0.9372 - val_dense_2_acc: 0.9403\n",
      "Epoch 30/60\n",
      "35712/35712 [==============================] - 311s 9ms/step - loss: 0.6535 - dense_1_loss: 0.2638 - dense_2_loss: 0.3896 - dense_1_acc: 0.9372 - dense_2_acc: 0.9357 - val_loss: 0.6431 - val_dense_1_loss: 0.2623 - val_dense_2_loss: 0.3808 - val_dense_1_acc: 0.9375 - val_dense_2_acc: 0.9410\n",
      "Epoch 31/60\n",
      "35712/35712 [==============================] - 320s 9ms/step - loss: 0.6429 - dense_1_loss: 0.2610 - dense_2_loss: 0.3819 - dense_1_acc: 0.9374 - dense_2_acc: 0.9362 - val_loss: 0.6328 - val_dense_1_loss: 0.2596 - val_dense_2_loss: 0.3732 - val_dense_1_acc: 0.9376 - val_dense_2_acc: 0.9410\n",
      "Epoch 32/60\n",
      "35712/35712 [==============================] - 345s 10ms/step - loss: 0.6328 - dense_1_loss: 0.2584 - dense_2_loss: 0.3744 - dense_1_acc: 0.9376 - dense_2_acc: 0.9369 - val_loss: 0.6229 - val_dense_1_loss: 0.2571 - val_dense_2_loss: 0.3658 - val_dense_1_acc: 0.9378 - val_dense_2_acc: 0.9428\n",
      "Epoch 33/60\n",
      "35712/35712 [==============================] - 232s 6ms/step - loss: 0.6233 - dense_1_loss: 0.2559 - dense_2_loss: 0.3673 - dense_1_acc: 0.9377 - dense_2_acc: 0.9381 - val_loss: 0.6135 - val_dense_1_loss: 0.2548 - val_dense_2_loss: 0.3587 - val_dense_1_acc: 0.9380 - val_dense_2_acc: 0.9433\n",
      "Epoch 34/60\n",
      "35712/35712 [==============================] - 231s 6ms/step - loss: 0.6141 - dense_1_loss: 0.2536 - dense_2_loss: 0.3605 - dense_1_acc: 0.9379 - dense_2_acc: 0.9385 - val_loss: 0.6044 - val_dense_1_loss: 0.2526 - val_dense_2_loss: 0.3518 - val_dense_1_acc: 0.9381 - val_dense_2_acc: 0.9441\n",
      "Epoch 35/60\n",
      "35712/35712 [==============================] - 308s 9ms/step - loss: 0.6054 - dense_1_loss: 0.2515 - dense_2_loss: 0.3538 - dense_1_acc: 0.9380 - dense_2_acc: 0.9389 - val_loss: 0.5958 - val_dense_1_loss: 0.2506 - val_dense_2_loss: 0.3452 - val_dense_1_acc: 0.9382 - val_dense_2_acc: 0.9441\n",
      "Epoch 36/60\n",
      "35712/35712 [==============================] - 293s 8ms/step - loss: 0.5969 - dense_1_loss: 0.2495 - dense_2_loss: 0.3474 - dense_1_acc: 0.9381 - dense_2_acc: 0.9400 - val_loss: 0.5873 - val_dense_1_loss: 0.2486 - val_dense_2_loss: 0.3386 - val_dense_1_acc: 0.9384 - val_dense_2_acc: 0.9453\n",
      "Epoch 37/60\n",
      "35712/35712 [==============================] - 295s 8ms/step - loss: 0.5887 - dense_1_loss: 0.2477 - dense_2_loss: 0.3410 - dense_1_acc: 0.9383 - dense_2_acc: 0.9402 - val_loss: 0.5791 - val_dense_1_loss: 0.2469 - val_dense_2_loss: 0.3322 - val_dense_1_acc: 0.9385 - val_dense_2_acc: 0.9458\n",
      "Epoch 38/60\n",
      "35712/35712 [==============================] - 296s 8ms/step - loss: 0.5809 - dense_1_loss: 0.2460 - dense_2_loss: 0.3349 - dense_1_acc: 0.9384 - dense_2_acc: 0.9402 - val_loss: 0.5713 - val_dense_1_loss: 0.2452 - val_dense_2_loss: 0.3261 - val_dense_1_acc: 0.9386 - val_dense_2_acc: 0.9461\n",
      "Epoch 39/60\n",
      "35712/35712 [==============================] - 275s 8ms/step - loss: 0.5734 - dense_1_loss: 0.2444 - dense_2_loss: 0.3290 - dense_1_acc: 0.9385 - dense_2_acc: 0.9405 - val_loss: 0.5638 - val_dense_1_loss: 0.2437 - val_dense_2_loss: 0.3201 - val_dense_1_acc: 0.9387 - val_dense_2_acc: 0.9461\n",
      "Epoch 40/60\n",
      "35712/35712 [==============================] - 232s 6ms/step - loss: 0.5662 - dense_1_loss: 0.2430 - dense_2_loss: 0.3233 - dense_1_acc: 0.9386 - dense_2_acc: 0.9404 - val_loss: 0.5567 - val_dense_1_loss: 0.2423 - val_dense_2_loss: 0.3143 - val_dense_1_acc: 0.9388 - val_dense_2_acc: 0.9456\n",
      "Epoch 41/60\n",
      "35712/35712 [==============================] - 231s 6ms/step - loss: 0.5595 - dense_1_loss: 0.2417 - dense_2_loss: 0.3178 - dense_1_acc: 0.9386 - dense_2_acc: 0.9401 - val_loss: 0.5499 - val_dense_1_loss: 0.2411 - val_dense_2_loss: 0.3088 - val_dense_1_acc: 0.9389 - val_dense_2_acc: 0.9458\n",
      "Epoch 42/60\n",
      "35712/35712 [==============================] - 271s 8ms/step - loss: 0.5530 - dense_1_loss: 0.2405 - dense_2_loss: 0.3125 - dense_1_acc: 0.9387 - dense_2_acc: 0.9402 - val_loss: 0.5434 - val_dense_1_loss: 0.2399 - val_dense_2_loss: 0.3035 - val_dense_1_acc: 0.9390 - val_dense_2_acc: 0.9458\n",
      "Epoch 43/60\n",
      "35712/35712 [==============================] - 297s 8ms/step - loss: 0.5468 - dense_1_loss: 0.2394 - dense_2_loss: 0.3074 - dense_1_acc: 0.9388 - dense_2_acc: 0.9403 - val_loss: 0.5372 - val_dense_1_loss: 0.2389 - val_dense_2_loss: 0.2984 - val_dense_1_acc: 0.9390 - val_dense_2_acc: 0.9458\n",
      "Epoch 44/60\n",
      "35712/35712 [==============================] - 295s 8ms/step - loss: 0.5410 - dense_1_loss: 0.2384 - dense_2_loss: 0.3026 - dense_1_acc: 0.9388 - dense_2_acc: 0.9403 - val_loss: 0.5314 - val_dense_1_loss: 0.2379 - val_dense_2_loss: 0.2934 - val_dense_1_acc: 0.9391 - val_dense_2_acc: 0.9458\n",
      "Epoch 45/60\n",
      "35712/35712 [==============================] - 298s 8ms/step - loss: 0.5354 - dense_1_loss: 0.2375 - dense_2_loss: 0.2979 - dense_1_acc: 0.9388 - dense_2_acc: 0.9405 - val_loss: 0.5257 - val_dense_1_loss: 0.2371 - val_dense_2_loss: 0.2886 - val_dense_1_acc: 0.9391 - val_dense_2_acc: 0.9458\n",
      "Epoch 46/60\n",
      "35712/35712 [==============================] - 298s 8ms/step - loss: 0.5300 - dense_1_loss: 0.2368 - dense_2_loss: 0.2932 - dense_1_acc: 0.9389 - dense_2_acc: 0.9408 - val_loss: 0.5201 - val_dense_1_loss: 0.2363 - val_dense_2_loss: 0.2838 - val_dense_1_acc: 0.9392 - val_dense_2_acc: 0.9458\n",
      "Epoch 47/60\n",
      "35712/35712 [==============================] - 245s 7ms/step - loss: 0.5249 - dense_1_loss: 0.2360 - dense_2_loss: 0.2888 - dense_1_acc: 0.9389 - dense_2_acc: 0.9409 - val_loss: 0.5150 - val_dense_1_loss: 0.2356 - val_dense_2_loss: 0.2794 - val_dense_1_acc: 0.9392 - val_dense_2_acc: 0.9458\n",
      "Epoch 48/60\n",
      "35712/35712 [==============================] - 232s 6ms/step - loss: 0.5200 - dense_1_loss: 0.2354 - dense_2_loss: 0.2847 - dense_1_acc: 0.9392 - dense_2_acc: 0.9409 - val_loss: 0.5101 - val_dense_1_loss: 0.2350 - val_dense_2_loss: 0.2752 - val_dense_1_acc: 0.9396 - val_dense_2_acc: 0.9458\n",
      "Epoch 49/60\n",
      "35712/35712 [==============================] - 277s 8ms/step - loss: 0.5155 - dense_1_loss: 0.2348 - dense_2_loss: 0.2806 - dense_1_acc: 0.9393 - dense_2_acc: 0.9409 - val_loss: 0.5054 - val_dense_1_loss: 0.2344 - val_dense_2_loss: 0.2710 - val_dense_1_acc: 0.9396 - val_dense_2_acc: 0.9458\n",
      "Epoch 50/60\n",
      "35712/35712 [==============================] - 294s 8ms/step - loss: 0.5111 - dense_1_loss: 0.2343 - dense_2_loss: 0.2767 - dense_1_acc: 0.9394 - dense_2_acc: 0.9409 - val_loss: 0.5008 - val_dense_1_loss: 0.2339 - val_dense_2_loss: 0.2669 - val_dense_1_acc: 0.9397 - val_dense_2_acc: 0.9458\n",
      "Epoch 51/60\n",
      "35712/35712 [==============================] - 295s 8ms/step - loss: 0.5069 - dense_1_loss: 0.2339 - dense_2_loss: 0.2730 - dense_1_acc: 0.9394 - dense_2_acc: 0.9409 - val_loss: 0.4965 - val_dense_1_loss: 0.2335 - val_dense_2_loss: 0.2630 - val_dense_1_acc: 0.9397 - val_dense_2_acc: 0.9461\n",
      "Epoch 52/60\n",
      "35712/35712 [==============================] - 299s 8ms/step - loss: 0.5029 - dense_1_loss: 0.2335 - dense_2_loss: 0.2694 - dense_1_acc: 0.9394 - dense_2_acc: 0.9413 - val_loss: 0.4924 - val_dense_1_loss: 0.2332 - val_dense_2_loss: 0.2593 - val_dense_1_acc: 0.9397 - val_dense_2_acc: 0.9468\n",
      "Epoch 53/60\n",
      "35712/35712 [==============================] - 297s 8ms/step - loss: 0.4992 - dense_1_loss: 0.2332 - dense_2_loss: 0.2660 - dense_1_acc: 0.9394 - dense_2_acc: 0.9415 - val_loss: 0.4886 - val_dense_1_loss: 0.2329 - val_dense_2_loss: 0.2558 - val_dense_1_acc: 0.9397 - val_dense_2_acc: 0.9473\n",
      "Epoch 54/60\n"
     ]
    },
    {
     "name": "stdout",
     "output_type": "stream",
     "text": [
      "35712/35712 [==============================] - 235s 7ms/step - loss: 0.4957 - dense_1_loss: 0.2329 - dense_2_loss: 0.2627 - dense_1_acc: 0.9395 - dense_2_acc: 0.9420 - val_loss: 0.4850 - val_dense_1_loss: 0.2326 - val_dense_2_loss: 0.2524 - val_dense_1_acc: 0.9398 - val_dense_2_acc: 0.9473\n",
      "Epoch 55/60\n",
      "35712/35712 [==============================] - 231s 6ms/step - loss: 0.4923 - dense_1_loss: 0.2327 - dense_2_loss: 0.2596 - dense_1_acc: 0.9395 - dense_2_acc: 0.9423 - val_loss: 0.4815 - val_dense_1_loss: 0.2323 - val_dense_2_loss: 0.2491 - val_dense_1_acc: 0.9399 - val_dense_2_acc: 0.9481\n",
      "Epoch 56/60\n",
      "35712/35712 [==============================] - 283s 8ms/step - loss: 0.4891 - dense_1_loss: 0.2325 - dense_2_loss: 0.2567 - dense_1_acc: 0.9396 - dense_2_acc: 0.9427 - val_loss: 0.4782 - val_dense_1_loss: 0.2321 - val_dense_2_loss: 0.2461 - val_dense_1_acc: 0.9399 - val_dense_2_acc: 0.9488\n",
      "Epoch 57/60\n",
      "35712/35712 [==============================] - 293s 8ms/step - loss: 0.4861 - dense_1_loss: 0.2323 - dense_2_loss: 0.2538 - dense_1_acc: 0.9396 - dense_2_acc: 0.9427 - val_loss: 0.4751 - val_dense_1_loss: 0.2319 - val_dense_2_loss: 0.2431 - val_dense_1_acc: 0.9399 - val_dense_2_acc: 0.9488\n",
      "Epoch 58/60\n",
      "35712/35712 [==============================] - 294s 8ms/step - loss: 0.4832 - dense_1_loss: 0.2321 - dense_2_loss: 0.2511 - dense_1_acc: 0.9396 - dense_2_acc: 0.9427 - val_loss: 0.4721 - val_dense_1_loss: 0.2318 - val_dense_2_loss: 0.2403 - val_dense_1_acc: 0.9399 - val_dense_2_acc: 0.9488\n",
      "Epoch 59/60\n",
      "35712/35712 [==============================] - 297s 8ms/step - loss: 0.4805 - dense_1_loss: 0.2320 - dense_2_loss: 0.2485 - dense_1_acc: 0.9396 - dense_2_acc: 0.9428 - val_loss: 0.4692 - val_dense_1_loss: 0.2316 - val_dense_2_loss: 0.2376 - val_dense_1_acc: 0.9399 - val_dense_2_acc: 0.9488\n",
      "Epoch 60/60\n",
      "35712/35712 [==============================] - 298s 8ms/step - loss: 0.4780 - dense_1_loss: 0.2318 - dense_2_loss: 0.2461 - dense_1_acc: 0.9397 - dense_2_acc: 0.9428 - val_loss: 0.4666 - val_dense_1_loss: 0.2315 - val_dense_2_loss: 0.2351 - val_dense_1_acc: 0.9399 - val_dense_2_acc: 0.9488\n"
     ]
    }
   ],
   "source": [
    "# compile the model\n",
    "model.compile(\n",
    "    loss=keras.losses.binary_crossentropy,\n",
    "    optimizer=keras.optimizers.Adam(lr=0.00001),\n",
    "    metrics=[\"accuracy\"],\n",
    ")\n",
    "\n",
    "#callbacks\n",
    "mcp_save_train_hidden_states = ModelCheckpoint('LSTM_hiddenstates_v1.h5', \n",
    "                                               save_best_only=True, \n",
    "                                               monitor='val_dense_1_loss', \n",
    "                                               mode='min')\n",
    "mcp_save_train_final_output = ModelCheckpoint('LSTM_finaloutput_v1.h5', \n",
    "                                              save_best_only=True, \n",
    "                                              monitor='val_dense_2_loss', \n",
    "                                              mode='min')\n",
    "\n",
    "# keep track of the results\n",
    "history = model.fit(X_s,\n",
    "                    [y_s.reshape((39680,100,1)),y_s[:,-1]], \n",
    "                    batch_size=32,\n",
    "                    class_weight = class_weights,\n",
    "                    validation_split = 0.1,\n",
    "                    callbacks=[mcp_save_train_hidden_states,mcp_save_train_final_output],\n",
    "                    epochs=60)"
   ]
  },
  {
   "cell_type": "markdown",
   "metadata": {},
   "source": [
    "https://keras.io/api/models/model_training_apis/"
   ]
  },
  {
   "cell_type": "code",
   "execution_count": 28,
   "metadata": {},
   "outputs": [
    {
     "data": {
      "text/plain": [
       "dict_keys(['val_loss', 'val_dense_1_loss', 'val_dense_2_loss', 'val_dense_1_acc', 'val_dense_2_acc', 'loss', 'dense_1_loss', 'dense_2_loss', 'dense_1_acc', 'dense_2_acc'])"
      ]
     },
     "execution_count": 28,
     "metadata": {},
     "output_type": "execute_result"
    }
   ],
   "source": [
    "history.history.keys()"
   ]
  },
  {
   "cell_type": "code",
   "execution_count": 14,
   "metadata": {},
   "outputs": [
    {
     "data": {
      "text/plain": [
       "<keras.layers.core.Dense at 0x1a473bfbe0>"
      ]
     },
     "execution_count": 14,
     "metadata": {},
     "output_type": "execute_result"
    }
   ],
   "source": [
    "model.layers[2]"
   ]
  },
  {
   "cell_type": "code",
   "execution_count": 31,
   "metadata": {
    "scrolled": true
   },
   "outputs": [
    {
     "name": "stdout",
     "output_type": "stream",
     "text": [
      "[array([[[0.08904704],\n",
      "        [0.0582726 ],\n",
      "        [0.054618  ],\n",
      "        [0.05410081],\n",
      "        [0.05368221],\n",
      "        [0.05396965],\n",
      "        [0.0537971 ],\n",
      "        [0.05396828],\n",
      "        [0.05388254],\n",
      "        [0.05380437],\n",
      "        [0.05370596],\n",
      "        [0.05388525],\n",
      "        [0.05396828],\n",
      "        [0.05395889],\n",
      "        [0.05396828],\n",
      "        [0.05395159],\n",
      "        [0.05396828],\n",
      "        [0.05374312],\n",
      "        [0.05391181],\n",
      "        [0.05371225],\n",
      "        [0.05396828],\n",
      "        [0.05396828],\n",
      "        [0.05403957],\n",
      "        [0.05396828],\n",
      "        [0.05395669],\n",
      "        [0.05394271],\n",
      "        [0.05396828],\n",
      "        [0.05392191],\n",
      "        [0.05396828],\n",
      "        [0.05396828],\n",
      "        [0.05393925],\n",
      "        [0.05396828],\n",
      "        [0.05392018],\n",
      "        [0.05401871],\n",
      "        [0.05396828],\n",
      "        [0.05396876],\n",
      "        [0.05385929],\n",
      "        [0.05385146],\n",
      "        [0.05396828],\n",
      "        [0.0539335 ],\n",
      "        [0.05396828],\n",
      "        [0.05372092],\n",
      "        [0.05391529],\n",
      "        [0.05396828],\n",
      "        [0.05396345],\n",
      "        [0.05391034],\n",
      "        [0.05388942],\n",
      "        [0.05396828],\n",
      "        [0.05355057],\n",
      "        [0.05380738],\n",
      "        [0.05388269],\n",
      "        [0.05396828],\n",
      "        [0.05393887],\n",
      "        [0.05378479],\n",
      "        [0.05371508],\n",
      "        [0.05394465],\n",
      "        [0.05503118],\n",
      "        [0.0539515 ],\n",
      "        [0.05383188],\n",
      "        [0.05396828],\n",
      "        [0.05434313],\n",
      "        [0.05396828],\n",
      "        [0.0536876 ],\n",
      "        [0.05396828],\n",
      "        [0.05373564],\n",
      "        [0.05380815],\n",
      "        [0.05383545],\n",
      "        [0.05391565],\n",
      "        [0.05396828],\n",
      "        [0.05396828],\n",
      "        [0.05396828],\n",
      "        [0.05387115],\n",
      "        [0.05396828],\n",
      "        [0.05396828],\n",
      "        [0.05396765],\n",
      "        [0.05396828],\n",
      "        [0.05396828],\n",
      "        [0.05390918],\n",
      "        [0.05390158],\n",
      "        [0.05396828],\n",
      "        [0.05396917],\n",
      "        [0.05396962],\n",
      "        [0.05395633],\n",
      "        [0.05393401],\n",
      "        [0.05398095],\n",
      "        [0.05406973],\n",
      "        [0.05396828],\n",
      "        [0.05396354],\n",
      "        [0.05370405],\n",
      "        [0.0540579 ],\n",
      "        [0.05396828],\n",
      "        [0.05375659],\n",
      "        [0.05396828],\n",
      "        [0.05399141],\n",
      "        [0.05400217],\n",
      "        [0.05396828],\n",
      "        [0.05390522],\n",
      "        [0.05396828],\n",
      "        [0.05396828],\n",
      "        [0.05396828]]], dtype=float32), array([[0.12557381]], dtype=float32)]\n"
     ]
    }
   ],
   "source": [
    "output = model.predict(X_s[4036,:,:].reshape((1,100,35)))\n",
    "print(output)"
   ]
  },
  {
   "cell_type": "code",
   "execution_count": 41,
   "metadata": {},
   "outputs": [],
   "source": [
    "metric.to_csv('Log_files_v1.csv')"
   ]
  },
  {
   "cell_type": "code",
   "execution_count": 38,
   "metadata": {},
   "outputs": [
    {
     "data": {
      "text/html": [
       "<div>\n",
       "<style scoped>\n",
       "    .dataframe tbody tr th:only-of-type {\n",
       "        vertical-align: middle;\n",
       "    }\n",
       "\n",
       "    .dataframe tbody tr th {\n",
       "        vertical-align: top;\n",
       "    }\n",
       "\n",
       "    .dataframe thead th {\n",
       "        text-align: right;\n",
       "    }\n",
       "</style>\n",
       "<table border=\"1\" class=\"dataframe\">\n",
       "  <thead>\n",
       "    <tr style=\"text-align: right;\">\n",
       "      <th></th>\n",
       "      <th>val_loss</th>\n",
       "      <th>val_dense_1_loss</th>\n",
       "      <th>val_dense_2_loss</th>\n",
       "      <th>val_dense_1_acc</th>\n",
       "      <th>val_dense_2_acc</th>\n",
       "      <th>loss</th>\n",
       "      <th>dense_1_loss</th>\n",
       "      <th>dense_2_loss</th>\n",
       "      <th>dense_1_acc</th>\n",
       "      <th>dense_2_acc</th>\n",
       "    </tr>\n",
       "  </thead>\n",
       "  <tbody>\n",
       "    <tr>\n",
       "      <th>0</th>\n",
       "      <td>1.368028</td>\n",
       "      <td>0.464902</td>\n",
       "      <td>0.903126</td>\n",
       "      <td>0.866583</td>\n",
       "      <td>0.210685</td>\n",
       "      <td>1.402499</td>\n",
       "      <td>0.485311</td>\n",
       "      <td>0.917188</td>\n",
       "      <td>0.862058</td>\n",
       "      <td>0.208557</td>\n",
       "    </tr>\n",
       "    <tr>\n",
       "      <th>1</th>\n",
       "      <td>1.292984</td>\n",
       "      <td>0.443024</td>\n",
       "      <td>0.849960</td>\n",
       "      <td>0.875950</td>\n",
       "      <td>0.223790</td>\n",
       "      <td>1.333449</td>\n",
       "      <td>0.455144</td>\n",
       "      <td>0.878305</td>\n",
       "      <td>0.872406</td>\n",
       "      <td>0.214550</td>\n",
       "    </tr>\n",
       "    <tr>\n",
       "      <th>2</th>\n",
       "      <td>1.200521</td>\n",
       "      <td>0.439853</td>\n",
       "      <td>0.760668</td>\n",
       "      <td>0.882795</td>\n",
       "      <td>0.267137</td>\n",
       "      <td>1.249684</td>\n",
       "      <td>0.441596</td>\n",
       "      <td>0.808088</td>\n",
       "      <td>0.880635</td>\n",
       "      <td>0.232051</td>\n",
       "    </tr>\n",
       "    <tr>\n",
       "      <th>3</th>\n",
       "      <td>1.155305</td>\n",
       "      <td>0.431350</td>\n",
       "      <td>0.723955</td>\n",
       "      <td>0.889824</td>\n",
       "      <td>0.658014</td>\n",
       "      <td>1.177385</td>\n",
       "      <td>0.436436</td>\n",
       "      <td>0.740948</td>\n",
       "      <td>0.887988</td>\n",
       "      <td>0.536374</td>\n",
       "    </tr>\n",
       "    <tr>\n",
       "      <th>4</th>\n",
       "      <td>1.122336</td>\n",
       "      <td>0.421766</td>\n",
       "      <td>0.700571</td>\n",
       "      <td>0.894970</td>\n",
       "      <td>0.727823</td>\n",
       "      <td>1.140663</td>\n",
       "      <td>0.427099</td>\n",
       "      <td>0.713564</td>\n",
       "      <td>0.893563</td>\n",
       "      <td>0.682516</td>\n",
       "    </tr>\n",
       "  </tbody>\n",
       "</table>\n",
       "</div>"
      ],
      "text/plain": [
       "   val_loss  val_dense_1_loss  val_dense_2_loss  val_dense_1_acc  \\\n",
       "0  1.368028          0.464902          0.903126         0.866583   \n",
       "1  1.292984          0.443024          0.849960         0.875950   \n",
       "2  1.200521          0.439853          0.760668         0.882795   \n",
       "3  1.155305          0.431350          0.723955         0.889824   \n",
       "4  1.122336          0.421766          0.700571         0.894970   \n",
       "\n",
       "   val_dense_2_acc      loss  dense_1_loss  dense_2_loss  dense_1_acc  \\\n",
       "0         0.210685  1.402499      0.485311      0.917188     0.862058   \n",
       "1         0.223790  1.333449      0.455144      0.878305     0.872406   \n",
       "2         0.267137  1.249684      0.441596      0.808088     0.880635   \n",
       "3         0.658014  1.177385      0.436436      0.740948     0.887988   \n",
       "4         0.727823  1.140663      0.427099      0.713564     0.893563   \n",
       "\n",
       "   dense_2_acc  \n",
       "0     0.208557  \n",
       "1     0.214550  \n",
       "2     0.232051  \n",
       "3     0.536374  \n",
       "4     0.682516  "
      ]
     },
     "execution_count": 38,
     "metadata": {},
     "output_type": "execute_result"
    }
   ],
   "source": [
    "metric = pd.DataFrame(history.history)\n",
    "metric.head()"
   ]
  },
  {
   "cell_type": "code",
   "execution_count": 44,
   "metadata": {},
   "outputs": [],
   "source": [
    "col_pairs = [(metric.columns[i],metric.columns[i+5]) for i in range(0,5)]"
   ]
  },
  {
   "cell_type": "code",
   "execution_count": 61,
   "metadata": {
    "scrolled": false
   },
   "outputs": [
    {
     "data": {
      "image/png": "[encoded data removed]",
      "text/plain": [
       "<Figure size 432x432 with 1 Axes>"
      ]
     },
     "metadata": {
      "needs_background": "light"
     },
     "output_type": "display_data"
    },
    {
     "data": {
      "image/png": "[encoded data removed]",
      "text/plain": [
       "<Figure size 432x432 with 1 Axes>"
      ]
     },
     "metadata": {
      "needs_background": "light"
     },
     "output_type": "display_data"
    },
    {
     "data": {
      "image/png": "[encoded data removed]",
      "text/plain": [
       "<Figure size 432x432 with 1 Axes>"
      ]
     },
     "metadata": {
      "needs_background": "light"
     },
     "output_type": "display_data"
    },
    {
     "data": {
      "image/png": "[encoded data removed]",
      "text/plain": [
       "<Figure size 432x432 with 1 Axes>"
      ]
     },
     "metadata": {
      "needs_background": "light"
     },
     "output_type": "display_data"
    },
    {
     "data": {
      "image/png": "[encoded data removed]",
      "text/plain": [
       "<Figure size 432x432 with 1 Axes>"
      ]
     },
     "metadata": {
      "needs_background": "light"
     },
     "output_type": "display_data"
    }
   ],
   "source": [
    "for foo in col_pairs:\n",
    "    plt.figure(figsize=(6,6))\n",
    "    for i in range(0,len(foo)):\n",
    "        plt.plot(metric.index,metric[foo[0]],color='red',label=foo[0])\n",
    "        plt.plot(metric.index,metric[foo[1]],color='green',label=foo[1])\n",
    "        plt.legend()\n",
    "    plt.show()\n",
    "    "
   ]
  },
  {
   "cell_type": "code",
   "execution_count": 54,
   "metadata": {},
   "outputs": [
    {
     "name": "stdout",
     "output_type": "stream",
     "text": [
      "val_loss\n",
      "val_dense_1_loss\n",
      "val_dense_2_loss\n",
      "val_dense_1_acc\n",
      "val_dense_2_acc\n"
     ]
    }
   ],
   "source": [
    "for foo in col_pairs:\n",
    "    print(foo[0])"
   ]
  },
  {
   "cell_type": "code",
   "execution_count": 58,
   "metadata": {},
   "outputs": [
    {
     "ename": "AttributeError",
     "evalue": "'Line2D' object has no property 'col'",
     "output_type": "error",
     "traceback": [
      "\u001b[0;31m-----------------------------------------------------------------\u001b[0m",
      "\u001b[0;31mAttributeError\u001b[0m                  Traceback (most recent call last)",
      "\u001b[0;32m<ipython-input-58-c3027a1ea1a7>\u001b[0m in \u001b[0;36m<module>\u001b[0;34m()\u001b[0m\n\u001b[0;32m----> 1\u001b[0;31m \u001b[0mplt\u001b[0m\u001b[0;34m.\u001b[0m\u001b[0mplot\u001b[0m\u001b[0;34m(\u001b[0m\u001b[0mmetric\u001b[0m\u001b[0;34m.\u001b[0m\u001b[0mindex\u001b[0m\u001b[0;34m,\u001b[0m\u001b[0mmetric\u001b[0m\u001b[0;34m[\u001b[0m\u001b[0mfoo\u001b[0m\u001b[0;34m[\u001b[0m\u001b[0;36m0\u001b[0m\u001b[0;34m]\u001b[0m\u001b[0;34m]\u001b[0m\u001b[0;34m,\u001b[0m\u001b[0mcol\u001b[0m\u001b[0;34m=\u001b[0m\u001b[0;34m'red'\u001b[0m\u001b[0;34m,\u001b[0m\u001b[0mlabel\u001b[0m\u001b[0;34m=\u001b[0m\u001b[0mfoo\u001b[0m\u001b[0;34m[\u001b[0m\u001b[0;36m0\u001b[0m\u001b[0;34m]\u001b[0m\u001b[0;34m)\u001b[0m\u001b[0;34m\u001b[0m\u001b[0;34m\u001b[0m\u001b[0m\n\u001b[0m\u001b[1;32m      2\u001b[0m \u001b[0;31m#plt.plot(metric.index,metric[foo[1]],col='green',label=foo[1])\u001b[0m\u001b[0;34m\u001b[0m\u001b[0;34m\u001b[0m\u001b[0;34m\u001b[0m\u001b[0m\n",
      "\u001b[0;32m/anaconda3/lib/python3.7/site-packages/matplotlib/pyplot.py\u001b[0m in \u001b[0;36mplot\u001b[0;34m(scalex, scaley, data, *args, **kwargs)\u001b[0m\n\u001b[1;32m   2794\u001b[0m     return gca().plot(\n\u001b[1;32m   2795\u001b[0m         *args, scalex=scalex, scaley=scaley, **({\"data\": data} if data\n\u001b[0;32m-> 2796\u001b[0;31m         is not None else {}), **kwargs)\n\u001b[0m\u001b[1;32m   2797\u001b[0m \u001b[0;34m\u001b[0m\u001b[0m\n\u001b[1;32m   2798\u001b[0m \u001b[0;34m\u001b[0m\u001b[0m\n",
      "\u001b[0;32m/anaconda3/lib/python3.7/site-packages/matplotlib/axes/_axes.py\u001b[0m in \u001b[0;36mplot\u001b[0;34m(self, scalex, scaley, data, *args, **kwargs)\u001b[0m\n\u001b[1;32m   1663\u001b[0m         \"\"\"\n\u001b[1;32m   1664\u001b[0m         \u001b[0mkwargs\u001b[0m \u001b[0;34m=\u001b[0m \u001b[0mcbook\u001b[0m\u001b[0;34m.\u001b[0m\u001b[0mnormalize_kwargs\u001b[0m\u001b[0;34m(\u001b[0m\u001b[0mkwargs\u001b[0m\u001b[0;34m,\u001b[0m \u001b[0mmlines\u001b[0m\u001b[0;34m.\u001b[0m\u001b[0mLine2D\u001b[0m\u001b[0;34m.\u001b[0m\u001b[0m_alias_map\u001b[0m\u001b[0;34m)\u001b[0m\u001b[0;34m\u001b[0m\u001b[0;34m\u001b[0m\u001b[0m\n\u001b[0;32m-> 1665\u001b[0;31m         \u001b[0mlines\u001b[0m \u001b[0;34m=\u001b[0m \u001b[0;34m[\u001b[0m\u001b[0;34m*\u001b[0m\u001b[0mself\u001b[0m\u001b[0;34m.\u001b[0m\u001b[0m_get_lines\u001b[0m\u001b[0;34m(\u001b[0m\u001b[0;34m*\u001b[0m\u001b[0margs\u001b[0m\u001b[0;34m,\u001b[0m \u001b[0mdata\u001b[0m\u001b[0;34m=\u001b[0m\u001b[0mdata\u001b[0m\u001b[0;34m,\u001b[0m \u001b[0;34m**\u001b[0m\u001b[0mkwargs\u001b[0m\u001b[0;34m)\u001b[0m\u001b[0;34m]\u001b[0m\u001b[0;34m\u001b[0m\u001b[0;34m\u001b[0m\u001b[0m\n\u001b[0m\u001b[1;32m   1666\u001b[0m         \u001b[0;32mfor\u001b[0m \u001b[0mline\u001b[0m \u001b[0;32min\u001b[0m \u001b[0mlines\u001b[0m\u001b[0;34m:\u001b[0m\u001b[0;34m\u001b[0m\u001b[0;34m\u001b[0m\u001b[0m\n\u001b[1;32m   1667\u001b[0m             \u001b[0mself\u001b[0m\u001b[0;34m.\u001b[0m\u001b[0madd_line\u001b[0m\u001b[0;34m(\u001b[0m\u001b[0mline\u001b[0m\u001b[0;34m)\u001b[0m\u001b[0;34m\u001b[0m\u001b[0;34m\u001b[0m\u001b[0m\n",
      "\u001b[0;32m/anaconda3/lib/python3.7/site-packages/matplotlib/axes/_base.py\u001b[0m in \u001b[0;36m__call__\u001b[0;34m(self, *args, **kwargs)\u001b[0m\n\u001b[1;32m    223\u001b[0m                 \u001b[0mthis\u001b[0m \u001b[0;34m+=\u001b[0m \u001b[0margs\u001b[0m\u001b[0;34m[\u001b[0m\u001b[0;36m0\u001b[0m\u001b[0;34m]\u001b[0m\u001b[0;34m,\u001b[0m\u001b[0;34m\u001b[0m\u001b[0;34m\u001b[0m\u001b[0m\n\u001b[1;32m    224\u001b[0m                 \u001b[0margs\u001b[0m \u001b[0;34m=\u001b[0m \u001b[0margs\u001b[0m\u001b[0;34m[\u001b[0m\u001b[0;36m1\u001b[0m\u001b[0;34m:\u001b[0m\u001b[0;34m]\u001b[0m\u001b[0;34m\u001b[0m\u001b[0;34m\u001b[0m\u001b[0m\n\u001b[0;32m--> 225\u001b[0;31m             \u001b[0;32myield\u001b[0m \u001b[0;32mfrom\u001b[0m \u001b[0mself\u001b[0m\u001b[0;34m.\u001b[0m\u001b[0m_plot_args\u001b[0m\u001b[0;34m(\u001b[0m\u001b[0mthis\u001b[0m\u001b[0;34m,\u001b[0m \u001b[0mkwargs\u001b[0m\u001b[0;34m)\u001b[0m\u001b[0;34m\u001b[0m\u001b[0;34m\u001b[0m\u001b[0m\n\u001b[0m\u001b[1;32m    226\u001b[0m \u001b[0;34m\u001b[0m\u001b[0m\n\u001b[1;32m    227\u001b[0m     \u001b[0;32mdef\u001b[0m \u001b[0mget_next_color\u001b[0m\u001b[0;34m(\u001b[0m\u001b[0mself\u001b[0m\u001b[0;34m)\u001b[0m\u001b[0;34m:\u001b[0m\u001b[0;34m\u001b[0m\u001b[0;34m\u001b[0m\u001b[0m\n",
      "\u001b[0;32m/anaconda3/lib/python3.7/site-packages/matplotlib/axes/_base.py\u001b[0m in \u001b[0;36m_plot_args\u001b[0;34m(self, tup, kwargs)\u001b[0m\n\u001b[1;32m    403\u001b[0m                 \"non-matching shapes is deprecated.\")\n\u001b[1;32m    404\u001b[0m         \u001b[0;32mfor\u001b[0m \u001b[0mj\u001b[0m \u001b[0;32min\u001b[0m \u001b[0mrange\u001b[0m\u001b[0;34m(\u001b[0m\u001b[0mmax\u001b[0m\u001b[0;34m(\u001b[0m\u001b[0mncx\u001b[0m\u001b[0;34m,\u001b[0m \u001b[0mncy\u001b[0m\u001b[0;34m)\u001b[0m\u001b[0;34m)\u001b[0m\u001b[0;34m:\u001b[0m\u001b[0;34m\u001b[0m\u001b[0;34m\u001b[0m\u001b[0m\n\u001b[0;32m--> 405\u001b[0;31m             \u001b[0mseg\u001b[0m \u001b[0;34m=\u001b[0m \u001b[0mfunc\u001b[0m\u001b[0;34m(\u001b[0m\u001b[0mx\u001b[0m\u001b[0;34m[\u001b[0m\u001b[0;34m:\u001b[0m\u001b[0;34m,\u001b[0m \u001b[0mj\u001b[0m \u001b[0;34m%\u001b[0m \u001b[0mncx\u001b[0m\u001b[0;34m]\u001b[0m\u001b[0;34m,\u001b[0m \u001b[0my\u001b[0m\u001b[0;34m[\u001b[0m\u001b[0;34m:\u001b[0m\u001b[0;34m,\u001b[0m \u001b[0mj\u001b[0m \u001b[0;34m%\u001b[0m \u001b[0mncy\u001b[0m\u001b[0;34m]\u001b[0m\u001b[0;34m,\u001b[0m \u001b[0mkw\u001b[0m\u001b[0;34m,\u001b[0m \u001b[0mkwargs\u001b[0m\u001b[0;34m)\u001b[0m\u001b[0;34m\u001b[0m\u001b[0;34m\u001b[0m\u001b[0m\n\u001b[0m\u001b[1;32m    406\u001b[0m             \u001b[0mret\u001b[0m\u001b[0;34m.\u001b[0m\u001b[0mappend\u001b[0m\u001b[0;34m(\u001b[0m\u001b[0mseg\u001b[0m\u001b[0;34m)\u001b[0m\u001b[0;34m\u001b[0m\u001b[0;34m\u001b[0m\u001b[0m\n\u001b[1;32m    407\u001b[0m         \u001b[0;32mreturn\u001b[0m \u001b[0mret\u001b[0m\u001b[0;34m\u001b[0m\u001b[0;34m\u001b[0m\u001b[0m\n",
      "\u001b[0;32m/anaconda3/lib/python3.7/site-packages/matplotlib/axes/_base.py\u001b[0m in \u001b[0;36m_makeline\u001b[0;34m(self, x, y, kw, kwargs)\u001b[0m\n\u001b[1;32m    310\u001b[0m         \u001b[0mdefault_dict\u001b[0m \u001b[0;34m=\u001b[0m \u001b[0mself\u001b[0m\u001b[0;34m.\u001b[0m\u001b[0m_getdefaults\u001b[0m\u001b[0;34m(\u001b[0m\u001b[0mset\u001b[0m\u001b[0;34m(\u001b[0m\u001b[0;34m)\u001b[0m\u001b[0;34m,\u001b[0m \u001b[0mkw\u001b[0m\u001b[0;34m)\u001b[0m\u001b[0;34m\u001b[0m\u001b[0;34m\u001b[0m\u001b[0m\n\u001b[1;32m    311\u001b[0m         \u001b[0mself\u001b[0m\u001b[0;34m.\u001b[0m\u001b[0m_setdefaults\u001b[0m\u001b[0;34m(\u001b[0m\u001b[0mdefault_dict\u001b[0m\u001b[0;34m,\u001b[0m \u001b[0mkw\u001b[0m\u001b[0;34m)\u001b[0m\u001b[0;34m\u001b[0m\u001b[0;34m\u001b[0m\u001b[0m\n\u001b[0;32m--> 312\u001b[0;31m         \u001b[0mseg\u001b[0m \u001b[0;34m=\u001b[0m \u001b[0mmlines\u001b[0m\u001b[0;34m.\u001b[0m\u001b[0mLine2D\u001b[0m\u001b[0;34m(\u001b[0m\u001b[0mx\u001b[0m\u001b[0;34m,\u001b[0m \u001b[0my\u001b[0m\u001b[0;34m,\u001b[0m \u001b[0;34m**\u001b[0m\u001b[0mkw\u001b[0m\u001b[0;34m)\u001b[0m\u001b[0;34m\u001b[0m\u001b[0;34m\u001b[0m\u001b[0m\n\u001b[0m\u001b[1;32m    313\u001b[0m         \u001b[0;32mreturn\u001b[0m \u001b[0mseg\u001b[0m\u001b[0;34m\u001b[0m\u001b[0;34m\u001b[0m\u001b[0m\n\u001b[1;32m    314\u001b[0m \u001b[0;34m\u001b[0m\u001b[0m\n",
      "\u001b[0;32m/anaconda3/lib/python3.7/site-packages/matplotlib/lines.py\u001b[0m in \u001b[0;36m__init__\u001b[0;34m(self, xdata, ydata, linewidth, linestyle, color, marker, markersize, markeredgewidth, markeredgecolor, markerfacecolor, markerfacecoloralt, fillstyle, antialiased, dash_capstyle, solid_capstyle, dash_joinstyle, solid_joinstyle, pickradius, drawstyle, markevery, **kwargs)\u001b[0m\n\u001b[1;32m    402\u001b[0m         \u001b[0;31m# update kwargs before updating data to give the caller a\u001b[0m\u001b[0;34m\u001b[0m\u001b[0;34m\u001b[0m\u001b[0;34m\u001b[0m\u001b[0m\n\u001b[1;32m    403\u001b[0m         \u001b[0;31m# chance to init axes (and hence unit support)\u001b[0m\u001b[0;34m\u001b[0m\u001b[0;34m\u001b[0m\u001b[0;34m\u001b[0m\u001b[0m\n\u001b[0;32m--> 404\u001b[0;31m         \u001b[0mself\u001b[0m\u001b[0;34m.\u001b[0m\u001b[0mupdate\u001b[0m\u001b[0;34m(\u001b[0m\u001b[0mkwargs\u001b[0m\u001b[0;34m)\u001b[0m\u001b[0;34m\u001b[0m\u001b[0;34m\u001b[0m\u001b[0m\n\u001b[0m\u001b[1;32m    405\u001b[0m         \u001b[0mself\u001b[0m\u001b[0;34m.\u001b[0m\u001b[0mpickradius\u001b[0m \u001b[0;34m=\u001b[0m \u001b[0mpickradius\u001b[0m\u001b[0;34m\u001b[0m\u001b[0;34m\u001b[0m\u001b[0m\n\u001b[1;32m    406\u001b[0m         \u001b[0mself\u001b[0m\u001b[0;34m.\u001b[0m\u001b[0mind_offset\u001b[0m \u001b[0;34m=\u001b[0m \u001b[0;36m0\u001b[0m\u001b[0;34m\u001b[0m\u001b[0;34m\u001b[0m\u001b[0m\n",
      "\u001b[0;32m/anaconda3/lib/python3.7/site-packages/matplotlib/artist.py\u001b[0m in \u001b[0;36mupdate\u001b[0;34m(self, props)\u001b[0m\n\u001b[1;32m    972\u001b[0m \u001b[0;34m\u001b[0m\u001b[0m\n\u001b[1;32m    973\u001b[0m         \u001b[0;32mwith\u001b[0m \u001b[0mcbook\u001b[0m\u001b[0;34m.\u001b[0m\u001b[0m_setattr_cm\u001b[0m\u001b[0;34m(\u001b[0m\u001b[0mself\u001b[0m\u001b[0;34m,\u001b[0m \u001b[0meventson\u001b[0m\u001b[0;34m=\u001b[0m\u001b[0;32mFalse\u001b[0m\u001b[0;34m)\u001b[0m\u001b[0;34m:\u001b[0m\u001b[0;34m\u001b[0m\u001b[0;34m\u001b[0m\u001b[0m\n\u001b[0;32m--> 974\u001b[0;31m             \u001b[0mret\u001b[0m \u001b[0;34m=\u001b[0m \u001b[0;34m[\u001b[0m\u001b[0m_update_property\u001b[0m\u001b[0;34m(\u001b[0m\u001b[0mself\u001b[0m\u001b[0;34m,\u001b[0m \u001b[0mk\u001b[0m\u001b[0;34m,\u001b[0m \u001b[0mv\u001b[0m\u001b[0;34m)\u001b[0m \u001b[0;32mfor\u001b[0m \u001b[0mk\u001b[0m\u001b[0;34m,\u001b[0m \u001b[0mv\u001b[0m \u001b[0;32min\u001b[0m \u001b[0mprops\u001b[0m\u001b[0;34m.\u001b[0m\u001b[0mitems\u001b[0m\u001b[0;34m(\u001b[0m\u001b[0;34m)\u001b[0m\u001b[0;34m]\u001b[0m\u001b[0;34m\u001b[0m\u001b[0;34m\u001b[0m\u001b[0m\n\u001b[0m\u001b[1;32m    975\u001b[0m \u001b[0;34m\u001b[0m\u001b[0m\n\u001b[1;32m    976\u001b[0m         \u001b[0;32mif\u001b[0m \u001b[0mlen\u001b[0m\u001b[0;34m(\u001b[0m\u001b[0mret\u001b[0m\u001b[0;34m)\u001b[0m\u001b[0;34m:\u001b[0m\u001b[0;34m\u001b[0m\u001b[0;34m\u001b[0m\u001b[0m\n",
      "\u001b[0;32m/anaconda3/lib/python3.7/site-packages/matplotlib/artist.py\u001b[0m in \u001b[0;36m<listcomp>\u001b[0;34m(.0)\u001b[0m\n\u001b[1;32m    972\u001b[0m \u001b[0;34m\u001b[0m\u001b[0m\n\u001b[1;32m    973\u001b[0m         \u001b[0;32mwith\u001b[0m \u001b[0mcbook\u001b[0m\u001b[0;34m.\u001b[0m\u001b[0m_setattr_cm\u001b[0m\u001b[0;34m(\u001b[0m\u001b[0mself\u001b[0m\u001b[0;34m,\u001b[0m \u001b[0meventson\u001b[0m\u001b[0;34m=\u001b[0m\u001b[0;32mFalse\u001b[0m\u001b[0;34m)\u001b[0m\u001b[0;34m:\u001b[0m\u001b[0;34m\u001b[0m\u001b[0;34m\u001b[0m\u001b[0m\n\u001b[0;32m--> 974\u001b[0;31m             \u001b[0mret\u001b[0m \u001b[0;34m=\u001b[0m \u001b[0;34m[\u001b[0m\u001b[0m_update_property\u001b[0m\u001b[0;34m(\u001b[0m\u001b[0mself\u001b[0m\u001b[0;34m,\u001b[0m \u001b[0mk\u001b[0m\u001b[0;34m,\u001b[0m \u001b[0mv\u001b[0m\u001b[0;34m)\u001b[0m \u001b[0;32mfor\u001b[0m \u001b[0mk\u001b[0m\u001b[0;34m,\u001b[0m \u001b[0mv\u001b[0m \u001b[0;32min\u001b[0m \u001b[0mprops\u001b[0m\u001b[0;34m.\u001b[0m\u001b[0mitems\u001b[0m\u001b[0;34m(\u001b[0m\u001b[0;34m)\u001b[0m\u001b[0;34m]\u001b[0m\u001b[0;34m\u001b[0m\u001b[0;34m\u001b[0m\u001b[0m\n\u001b[0m\u001b[1;32m    975\u001b[0m \u001b[0;34m\u001b[0m\u001b[0m\n\u001b[1;32m    976\u001b[0m         \u001b[0;32mif\u001b[0m \u001b[0mlen\u001b[0m\u001b[0;34m(\u001b[0m\u001b[0mret\u001b[0m\u001b[0;34m)\u001b[0m\u001b[0;34m:\u001b[0m\u001b[0;34m\u001b[0m\u001b[0;34m\u001b[0m\u001b[0m\n",
      "\u001b[0;32m/anaconda3/lib/python3.7/site-packages/matplotlib/artist.py\u001b[0m in \u001b[0;36m_update_property\u001b[0;34m(self, k, v)\u001b[0m\n\u001b[1;32m    968\u001b[0m                 \u001b[0;32mif\u001b[0m \u001b[0;32mnot\u001b[0m \u001b[0mcallable\u001b[0m\u001b[0;34m(\u001b[0m\u001b[0mfunc\u001b[0m\u001b[0;34m)\u001b[0m\u001b[0;34m:\u001b[0m\u001b[0;34m\u001b[0m\u001b[0;34m\u001b[0m\u001b[0m\n\u001b[1;32m    969\u001b[0m                     raise AttributeError('{!r} object has no property {!r}'\n\u001b[0;32m--> 970\u001b[0;31m                                          .format(type(self).__name__, k))\n\u001b[0m\u001b[1;32m    971\u001b[0m                 \u001b[0;32mreturn\u001b[0m \u001b[0mfunc\u001b[0m\u001b[0;34m(\u001b[0m\u001b[0mv\u001b[0m\u001b[0;34m)\u001b[0m\u001b[0;34m\u001b[0m\u001b[0;34m\u001b[0m\u001b[0m\n\u001b[1;32m    972\u001b[0m \u001b[0;34m\u001b[0m\u001b[0m\n",
      "\u001b[0;31mAttributeError\u001b[0m: 'Line2D' object has no property 'col'"
     ]
    },
    {
     "data": {
      "image/png": "[encoded data removed]",
      "text/plain": [
       "<Figure size 432x288 with 1 Axes>"
      ]
     },
     "metadata": {
      "needs_background": "light"
     },
     "output_type": "display_data"
    }
   ],
   "source": [
    "plt.plot(metric.index,metric[foo[0]],col='red',label=foo[0])\n",
    "#plt.plot(metric.index,metric[foo[1]],col='green',label=foo[1])"
   ]
  },
  {
   "cell_type": "code",
   "execution_count": null,
   "metadata": {},
   "outputs": [],
   "source": []
  }
 ],
 "metadata": {
  "kernelspec": {
   "display_name": "Python 3",
   "language": "python",
   "name": "python3"
  },
  "language_info": {
   "codemirror_mode": {
    "name": "ipython",
    "version": 3
   },
   "file_extension": ".py",
   "mimetype": "text/x-python",
   "name": "python",
   "nbconvert_exporter": "python",
   "pygments_lexer": "ipython3",
   "version": "3.7.3"
  }
 },
 "nbformat": 4,
 "nbformat_minor": 4
}
