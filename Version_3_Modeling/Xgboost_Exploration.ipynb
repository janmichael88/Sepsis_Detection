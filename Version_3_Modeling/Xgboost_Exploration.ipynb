{
 "cells": [
  {
   "cell_type": "code",
   "execution_count": 24,
   "metadata": {},
   "outputs": [],
   "source": [
    "import pandas as pd\n",
    "import numpy as np\n",
    "import xgboost as xgb\n",
    "import matplotlib.pyplot as plt\n",
    "%matplotlib inline\n",
    "pd.set_option('display.max_columns', None)\n",
    "pd.set_option('display.max_rows', None)\n",
    "from sklearn import preprocessing\n",
    "from sklearn.model_selection import train_test_split\n",
    "from sklearn.model_selection import GridSearchCV,StratifiedKFold\n",
    "from sklearn.metrics import accuracy_score\n",
    "from sklearn.metrics import confusion_matrix, roc_curve, roc_auc_score\n",
    "from sklearn.metrics import classification_report, f1_score\n",
    "from sklearn.metrics import accuracy_score,f1_score,precision_score,recall_score,roc_auc_score,make_scorer,log_loss"
   ]
  },
  {
   "cell_type": "code",
   "execution_count": 2,
   "metadata": {},
   "outputs": [
    {
     "data": {
      "text/plain": [
       "'/Users/janmichaelaustria/Google Drive/Insight 2020/Sepsis Detection/Version3_Modeling_XGb'"
      ]
     },
     "execution_count": 2,
     "metadata": {},
     "output_type": "execute_result"
    }
   ],
   "source": [
    "pwd"
   ]
  },
  {
   "cell_type": "code",
   "execution_count": 3,
   "metadata": {},
   "outputs": [
    {
     "name": "stderr",
     "output_type": "stream",
     "text": [
      "/anaconda3/lib/python3.7/site-packages/numpy/lib/arraysetops.py:569: FutureWarning: elementwise comparison failed; returning scalar instead, but in the future will perform elementwise comparison\n",
      "  mask |= (ar1 == a)\n"
     ]
    }
   ],
   "source": [
    "sepsis = pd.read_csv('/Users/janmichaelaustria/Google Drive/Insight 2020/Sepsis Detection/Sepsis_Compiled_Interpolated.csv',index_col=0)"
   ]
  },
  {
   "cell_type": "code",
   "execution_count": 4,
   "metadata": {},
   "outputs": [
    {
     "data": {
      "text/plain": [
       "0    1524294\n",
       "1      27916\n",
       "Name: SepsisLabel, dtype: int64"
      ]
     },
     "execution_count": 4,
     "metadata": {},
     "output_type": "execute_result"
    }
   ],
   "source": [
    "sepsis['SepsisLabel'].value_counts()"
   ]
  },
  {
   "cell_type": "code",
   "execution_count": 5,
   "metadata": {},
   "outputs": [
    {
     "data": {
      "text/html": [
       "<div>\n",
       "<style scoped>\n",
       "    .dataframe tbody tr th:only-of-type {\n",
       "        vertical-align: middle;\n",
       "    }\n",
       "\n",
       "    .dataframe tbody tr th {\n",
       "        vertical-align: top;\n",
       "    }\n",
       "\n",
       "    .dataframe thead th {\n",
       "        text-align: right;\n",
       "    }\n",
       "</style>\n",
       "<table border=\"1\" class=\"dataframe\">\n",
       "  <thead>\n",
       "    <tr style=\"text-align: right;\">\n",
       "      <th></th>\n",
       "      <th>Delta_t_hours</th>\n",
       "      <th>HR</th>\n",
       "      <th>O2Sat</th>\n",
       "      <th>Temp</th>\n",
       "      <th>SBP</th>\n",
       "      <th>MAP</th>\n",
       "      <th>DBP</th>\n",
       "      <th>Resp</th>\n",
       "      <th>EtCO2</th>\n",
       "      <th>BaseExcess</th>\n",
       "      <th>HCO3</th>\n",
       "      <th>FiO2</th>\n",
       "      <th>pH</th>\n",
       "      <th>PaCO2</th>\n",
       "      <th>SaO2</th>\n",
       "      <th>AST</th>\n",
       "      <th>BUN</th>\n",
       "      <th>Alkalinephos</th>\n",
       "      <th>Calcium</th>\n",
       "      <th>Chloride</th>\n",
       "      <th>Creatinine</th>\n",
       "      <th>Bilirubin_direct</th>\n",
       "      <th>Glucose</th>\n",
       "      <th>Lactate</th>\n",
       "      <th>Magnesium</th>\n",
       "      <th>Phosphate</th>\n",
       "      <th>Potassium</th>\n",
       "      <th>Bilirubin_total</th>\n",
       "      <th>TroponinI</th>\n",
       "      <th>Hct</th>\n",
       "      <th>Hgb</th>\n",
       "      <th>PTT</th>\n",
       "      <th>WBC</th>\n",
       "      <th>Fibrinogen</th>\n",
       "      <th>Platelets</th>\n",
       "      <th>Age</th>\n",
       "      <th>Gender</th>\n",
       "    </tr>\n",
       "  </thead>\n",
       "  <tbody>\n",
       "    <tr>\n",
       "      <th>0</th>\n",
       "      <td>0</td>\n",
       "      <td>0.0</td>\n",
       "      <td>0.0</td>\n",
       "      <td>0.0</td>\n",
       "      <td>0.0</td>\n",
       "      <td>0.000</td>\n",
       "      <td>0.0</td>\n",
       "      <td>0.0</td>\n",
       "      <td>0.0</td>\n",
       "      <td>0.000000</td>\n",
       "      <td>0.0</td>\n",
       "      <td>0.00</td>\n",
       "      <td>0.000000</td>\n",
       "      <td>0.0</td>\n",
       "      <td>0.0</td>\n",
       "      <td>0.0</td>\n",
       "      <td>0.0</td>\n",
       "      <td>0.0</td>\n",
       "      <td>0.0</td>\n",
       "      <td>0.0</td>\n",
       "      <td>0.0</td>\n",
       "      <td>0.0</td>\n",
       "      <td>0.0</td>\n",
       "      <td>0.0</td>\n",
       "      <td>0.0</td>\n",
       "      <td>0.0</td>\n",
       "      <td>0.0</td>\n",
       "      <td>0.0</td>\n",
       "      <td>0.0</td>\n",
       "      <td>0.0</td>\n",
       "      <td>0.0</td>\n",
       "      <td>0.0</td>\n",
       "      <td>0.0</td>\n",
       "      <td>0.0</td>\n",
       "      <td>0.0</td>\n",
       "      <td>83</td>\n",
       "      <td>0</td>\n",
       "    </tr>\n",
       "    <tr>\n",
       "      <th>1</th>\n",
       "      <td>1</td>\n",
       "      <td>97.0</td>\n",
       "      <td>95.0</td>\n",
       "      <td>0.0</td>\n",
       "      <td>98.0</td>\n",
       "      <td>75.330</td>\n",
       "      <td>0.0</td>\n",
       "      <td>19.0</td>\n",
       "      <td>0.0</td>\n",
       "      <td>0.000000</td>\n",
       "      <td>0.0</td>\n",
       "      <td>0.00</td>\n",
       "      <td>0.000000</td>\n",
       "      <td>0.0</td>\n",
       "      <td>0.0</td>\n",
       "      <td>0.0</td>\n",
       "      <td>0.0</td>\n",
       "      <td>0.0</td>\n",
       "      <td>0.0</td>\n",
       "      <td>0.0</td>\n",
       "      <td>0.0</td>\n",
       "      <td>0.0</td>\n",
       "      <td>0.0</td>\n",
       "      <td>0.0</td>\n",
       "      <td>0.0</td>\n",
       "      <td>0.0</td>\n",
       "      <td>0.0</td>\n",
       "      <td>0.0</td>\n",
       "      <td>0.0</td>\n",
       "      <td>0.0</td>\n",
       "      <td>0.0</td>\n",
       "      <td>0.0</td>\n",
       "      <td>0.0</td>\n",
       "      <td>0.0</td>\n",
       "      <td>0.0</td>\n",
       "      <td>83</td>\n",
       "      <td>0</td>\n",
       "    </tr>\n",
       "    <tr>\n",
       "      <th>2</th>\n",
       "      <td>2</td>\n",
       "      <td>89.0</td>\n",
       "      <td>99.0</td>\n",
       "      <td>0.0</td>\n",
       "      <td>122.0</td>\n",
       "      <td>86.000</td>\n",
       "      <td>0.0</td>\n",
       "      <td>22.0</td>\n",
       "      <td>0.0</td>\n",
       "      <td>0.000000</td>\n",
       "      <td>0.0</td>\n",
       "      <td>0.00</td>\n",
       "      <td>0.000000</td>\n",
       "      <td>0.0</td>\n",
       "      <td>0.0</td>\n",
       "      <td>0.0</td>\n",
       "      <td>0.0</td>\n",
       "      <td>0.0</td>\n",
       "      <td>0.0</td>\n",
       "      <td>0.0</td>\n",
       "      <td>0.0</td>\n",
       "      <td>0.0</td>\n",
       "      <td>0.0</td>\n",
       "      <td>0.0</td>\n",
       "      <td>0.0</td>\n",
       "      <td>0.0</td>\n",
       "      <td>0.0</td>\n",
       "      <td>0.0</td>\n",
       "      <td>0.0</td>\n",
       "      <td>0.0</td>\n",
       "      <td>0.0</td>\n",
       "      <td>0.0</td>\n",
       "      <td>0.0</td>\n",
       "      <td>0.0</td>\n",
       "      <td>0.0</td>\n",
       "      <td>83</td>\n",
       "      <td>0</td>\n",
       "    </tr>\n",
       "    <tr>\n",
       "      <th>3</th>\n",
       "      <td>3</td>\n",
       "      <td>90.0</td>\n",
       "      <td>95.0</td>\n",
       "      <td>0.0</td>\n",
       "      <td>122.0</td>\n",
       "      <td>88.665</td>\n",
       "      <td>0.0</td>\n",
       "      <td>30.0</td>\n",
       "      <td>0.0</td>\n",
       "      <td>24.000000</td>\n",
       "      <td>0.0</td>\n",
       "      <td>0.00</td>\n",
       "      <td>7.360000</td>\n",
       "      <td>100.0</td>\n",
       "      <td>0.0</td>\n",
       "      <td>0.0</td>\n",
       "      <td>0.0</td>\n",
       "      <td>0.0</td>\n",
       "      <td>0.0</td>\n",
       "      <td>0.0</td>\n",
       "      <td>0.0</td>\n",
       "      <td>0.0</td>\n",
       "      <td>0.0</td>\n",
       "      <td>0.0</td>\n",
       "      <td>0.0</td>\n",
       "      <td>0.0</td>\n",
       "      <td>0.0</td>\n",
       "      <td>0.0</td>\n",
       "      <td>0.0</td>\n",
       "      <td>0.0</td>\n",
       "      <td>0.0</td>\n",
       "      <td>0.0</td>\n",
       "      <td>0.0</td>\n",
       "      <td>0.0</td>\n",
       "      <td>0.0</td>\n",
       "      <td>83</td>\n",
       "      <td>0</td>\n",
       "    </tr>\n",
       "    <tr>\n",
       "      <th>4</th>\n",
       "      <td>4</td>\n",
       "      <td>103.0</td>\n",
       "      <td>88.5</td>\n",
       "      <td>0.0</td>\n",
       "      <td>122.0</td>\n",
       "      <td>91.330</td>\n",
       "      <td>0.0</td>\n",
       "      <td>24.5</td>\n",
       "      <td>0.0</td>\n",
       "      <td>23.857143</td>\n",
       "      <td>0.0</td>\n",
       "      <td>0.28</td>\n",
       "      <td>7.365714</td>\n",
       "      <td>98.0</td>\n",
       "      <td>0.0</td>\n",
       "      <td>0.0</td>\n",
       "      <td>0.0</td>\n",
       "      <td>0.0</td>\n",
       "      <td>0.0</td>\n",
       "      <td>0.0</td>\n",
       "      <td>0.0</td>\n",
       "      <td>0.0</td>\n",
       "      <td>0.0</td>\n",
       "      <td>0.0</td>\n",
       "      <td>0.0</td>\n",
       "      <td>0.0</td>\n",
       "      <td>0.0</td>\n",
       "      <td>0.0</td>\n",
       "      <td>0.0</td>\n",
       "      <td>0.0</td>\n",
       "      <td>0.0</td>\n",
       "      <td>0.0</td>\n",
       "      <td>0.0</td>\n",
       "      <td>0.0</td>\n",
       "      <td>0.0</td>\n",
       "      <td>83</td>\n",
       "      <td>0</td>\n",
       "    </tr>\n",
       "  </tbody>\n",
       "</table>\n",
       "</div>"
      ],
      "text/plain": [
       "   Delta_t_hours     HR  O2Sat  Temp    SBP     MAP  DBP  Resp  EtCO2  \\\n",
       "0              0    0.0    0.0   0.0    0.0   0.000  0.0   0.0    0.0   \n",
       "1              1   97.0   95.0   0.0   98.0  75.330  0.0  19.0    0.0   \n",
       "2              2   89.0   99.0   0.0  122.0  86.000  0.0  22.0    0.0   \n",
       "3              3   90.0   95.0   0.0  122.0  88.665  0.0  30.0    0.0   \n",
       "4              4  103.0   88.5   0.0  122.0  91.330  0.0  24.5    0.0   \n",
       "\n",
       "   BaseExcess  HCO3  FiO2        pH  PaCO2  SaO2  AST  BUN  Alkalinephos  \\\n",
       "0    0.000000   0.0  0.00  0.000000    0.0   0.0  0.0  0.0           0.0   \n",
       "1    0.000000   0.0  0.00  0.000000    0.0   0.0  0.0  0.0           0.0   \n",
       "2    0.000000   0.0  0.00  0.000000    0.0   0.0  0.0  0.0           0.0   \n",
       "3   24.000000   0.0  0.00  7.360000  100.0   0.0  0.0  0.0           0.0   \n",
       "4   23.857143   0.0  0.28  7.365714   98.0   0.0  0.0  0.0           0.0   \n",
       "\n",
       "   Calcium  Chloride  Creatinine  Bilirubin_direct  Glucose  Lactate  \\\n",
       "0      0.0       0.0         0.0               0.0      0.0      0.0   \n",
       "1      0.0       0.0         0.0               0.0      0.0      0.0   \n",
       "2      0.0       0.0         0.0               0.0      0.0      0.0   \n",
       "3      0.0       0.0         0.0               0.0      0.0      0.0   \n",
       "4      0.0       0.0         0.0               0.0      0.0      0.0   \n",
       "\n",
       "   Magnesium  Phosphate  Potassium  Bilirubin_total  TroponinI  Hct  Hgb  PTT  \\\n",
       "0        0.0        0.0        0.0              0.0        0.0  0.0  0.0  0.0   \n",
       "1        0.0        0.0        0.0              0.0        0.0  0.0  0.0  0.0   \n",
       "2        0.0        0.0        0.0              0.0        0.0  0.0  0.0  0.0   \n",
       "3        0.0        0.0        0.0              0.0        0.0  0.0  0.0  0.0   \n",
       "4        0.0        0.0        0.0              0.0        0.0  0.0  0.0  0.0   \n",
       "\n",
       "   WBC  Fibrinogen  Platelets  Age  Gender  \n",
       "0  0.0         0.0        0.0   83       0  \n",
       "1  0.0         0.0        0.0   83       0  \n",
       "2  0.0         0.0        0.0   83       0  \n",
       "3  0.0         0.0        0.0   83       0  \n",
       "4  0.0         0.0        0.0   83       0  "
      ]
     },
     "execution_count": 5,
     "metadata": {},
     "output_type": "execute_result"
    }
   ],
   "source": [
    "sepsis.iloc[:,1:-6].head()"
   ]
  },
  {
   "cell_type": "code",
   "execution_count": 6,
   "metadata": {},
   "outputs": [],
   "source": [
    "X = sepsis.iloc[:,1:-6]\n",
    "y = sepsis['SepsisLabel']"
   ]
  },
  {
   "cell_type": "code",
   "execution_count": 7,
   "metadata": {},
   "outputs": [
    {
     "data": {
      "text/plain": [
       "((1552210, 37), (1552210,))"
      ]
     },
     "execution_count": 7,
     "metadata": {},
     "output_type": "execute_result"
    }
   ],
   "source": [
    "X.shape,y.shape"
   ]
  },
  {
   "cell_type": "code",
   "execution_count": 8,
   "metadata": {
    "scrolled": true
   },
   "outputs": [
    {
     "data": {
      "text/plain": [
       "['Delta_t_hours',\n",
       " 'HR',\n",
       " 'O2Sat',\n",
       " 'Temp',\n",
       " 'SBP',\n",
       " 'MAP',\n",
       " 'DBP',\n",
       " 'Resp',\n",
       " 'EtCO2',\n",
       " 'BaseExcess',\n",
       " 'HCO3',\n",
       " 'FiO2',\n",
       " 'pH',\n",
       " 'PaCO2',\n",
       " 'SaO2',\n",
       " 'AST',\n",
       " 'BUN',\n",
       " 'Alkalinephos',\n",
       " 'Calcium',\n",
       " 'Chloride',\n",
       " 'Creatinine',\n",
       " 'Bilirubin_direct',\n",
       " 'Glucose',\n",
       " 'Lactate',\n",
       " 'Magnesium',\n",
       " 'Phosphate',\n",
       " 'Potassium',\n",
       " 'Bilirubin_total',\n",
       " 'TroponinI',\n",
       " 'Hct',\n",
       " 'Hgb',\n",
       " 'PTT',\n",
       " 'WBC',\n",
       " 'Fibrinogen',\n",
       " 'Platelets',\n",
       " 'Age',\n",
       " 'Gender']"
      ]
     },
     "execution_count": 8,
     "metadata": {},
     "output_type": "execute_result"
    }
   ],
   "source": [
    "features = list(X.columns)\n",
    "features"
   ]
  },
  {
   "cell_type": "code",
   "execution_count": 9,
   "metadata": {},
   "outputs": [],
   "source": [
    "xgb_model = xgb.XGBClassifier()"
   ]
  },
  {
   "cell_type": "code",
   "execution_count": 10,
   "metadata": {},
   "outputs": [],
   "source": [
    "parameters = {'objective':['binary:logistic'],\n",
    "              'max_depth': [9],\n",
    "              'n_estimators': [300]}\n",
    "scoring = {'f1': make_scorer(f1_score), \n",
    "           'Accuracy': make_scorer(accuracy_score),\n",
    "          'precision': make_scorer(precision_score),\n",
    "          'recall':make_scorer(recall_score),\n",
    "          'auc':make_scorer(roc_auc_score)}\n",
    "\n",
    "kfold = StratifiedKFold(n_splits=3, shuffle=True)"
   ]
  },
  {
   "cell_type": "code",
   "execution_count": 11,
   "metadata": {
    "scrolled": true
   },
   "outputs": [
    {
     "name": "stdout",
     "output_type": "stream",
     "text": [
      "Fitting 3 folds for each of 1 candidates, totalling 3 fits\n"
     ]
    },
    {
     "name": "stderr",
     "output_type": "stream",
     "text": [
      "[Parallel(n_jobs=-1)]: Using backend LokyBackend with 12 concurrent workers.\n",
      "[Parallel(n_jobs=-1)]: Done   3 out of   3 | elapsed: 46.1min finished\n"
     ]
    },
    {
     "data": {
      "text/plain": [
       "GridSearchCV(cv=StratifiedKFold(n_splits=3, random_state=None, shuffle=True),\n",
       "             error_score=nan,\n",
       "             estimator=XGBClassifier(base_score=0.5, booster='gbtree',\n",
       "                                     colsample_bylevel=1, colsample_bynode=1,\n",
       "                                     colsample_bytree=1, gamma=0,\n",
       "                                     learning_rate=0.1, max_delta_step=0,\n",
       "                                     max_depth=3, min_child_weight=1,\n",
       "                                     missing=None, n_estimators=100, n_jobs=1,\n",
       "                                     nthread=None, objective='binary:l...\n",
       "             iid='deprecated', n_jobs=-1,\n",
       "             param_grid={'max_depth': [9], 'n_estimators': [300],\n",
       "                         'objective': ['binary:logistic']},\n",
       "             pre_dispatch='2*n_jobs', refit='auc', return_train_score=False,\n",
       "             scoring={'Accuracy': make_scorer(accuracy_score),\n",
       "                      'auc': make_scorer(roc_auc_score),\n",
       "                      'f1': make_scorer(f1_score),\n",
       "                      'precision': make_scorer(precision_score),\n",
       "                      'recall': make_scorer(recall_score)},\n",
       "             verbose=3)"
      ]
     },
     "execution_count": 11,
     "metadata": {},
     "output_type": "execute_result"
    }
   ],
   "source": [
    "clf = GridSearchCV(xgb_model, parameters, n_jobs=-1, \n",
    "                   cv=kfold, \n",
    "                   scoring=scoring,\n",
    "                   verbose=3, refit='auc')\n",
    "clf.fit(X,y)"
   ]
  },
  {
   "cell_type": "markdown",
   "metadata": {},
   "source": [
    "https://www.kaggle.com/phunter/xgboost-with-gridsearchcv\n",
    "https://stackoverflow.com/questions/50537651/multiple-scoring-metrics-with-sklearn-xgboost-gridsearchcv\n",
    "https://stackoverflow.com/questions/50824326/xgboost-with-gridsearchcv-scaling-pca-and-early-stopping-in-sklearn-pipeline\n"
   ]
  },
  {
   "cell_type": "code",
   "execution_count": 12,
   "metadata": {
    "scrolled": true
   },
   "outputs": [
    {
     "data": {
      "text/html": [
       "<div>\n",
       "<style scoped>\n",
       "    .dataframe tbody tr th:only-of-type {\n",
       "        vertical-align: middle;\n",
       "    }\n",
       "\n",
       "    .dataframe tbody tr th {\n",
       "        vertical-align: top;\n",
       "    }\n",
       "\n",
       "    .dataframe thead th {\n",
       "        text-align: right;\n",
       "    }\n",
       "</style>\n",
       "<table border=\"1\" class=\"dataframe\">\n",
       "  <thead>\n",
       "    <tr style=\"text-align: right;\">\n",
       "      <th></th>\n",
       "      <th>mean_fit_time</th>\n",
       "      <th>std_fit_time</th>\n",
       "      <th>mean_score_time</th>\n",
       "      <th>std_score_time</th>\n",
       "      <th>param_max_depth</th>\n",
       "      <th>param_n_estimators</th>\n",
       "      <th>param_objective</th>\n",
       "      <th>params</th>\n",
       "      <th>split0_test_f1</th>\n",
       "      <th>split1_test_f1</th>\n",
       "      <th>split2_test_f1</th>\n",
       "      <th>mean_test_f1</th>\n",
       "      <th>std_test_f1</th>\n",
       "      <th>rank_test_f1</th>\n",
       "      <th>split0_test_Accuracy</th>\n",
       "      <th>split1_test_Accuracy</th>\n",
       "      <th>split2_test_Accuracy</th>\n",
       "      <th>mean_test_Accuracy</th>\n",
       "      <th>std_test_Accuracy</th>\n",
       "      <th>rank_test_Accuracy</th>\n",
       "      <th>split0_test_precision</th>\n",
       "      <th>split1_test_precision</th>\n",
       "      <th>split2_test_precision</th>\n",
       "      <th>mean_test_precision</th>\n",
       "      <th>std_test_precision</th>\n",
       "      <th>rank_test_precision</th>\n",
       "      <th>split0_test_recall</th>\n",
       "      <th>split1_test_recall</th>\n",
       "      <th>split2_test_recall</th>\n",
       "      <th>mean_test_recall</th>\n",
       "      <th>std_test_recall</th>\n",
       "      <th>rank_test_recall</th>\n",
       "      <th>split0_test_auc</th>\n",
       "      <th>split1_test_auc</th>\n",
       "      <th>split2_test_auc</th>\n",
       "      <th>mean_test_auc</th>\n",
       "      <th>std_test_auc</th>\n",
       "      <th>rank_test_auc</th>\n",
       "    </tr>\n",
       "  </thead>\n",
       "  <tbody>\n",
       "    <tr>\n",
       "      <th>0</th>\n",
       "      <td>2732.099049</td>\n",
       "      <td>6.438893</td>\n",
       "      <td>25.215882</td>\n",
       "      <td>0.307547</td>\n",
       "      <td>9</td>\n",
       "      <td>300</td>\n",
       "      <td>binary:logistic</td>\n",
       "      <td>{'max_depth': 9, 'n_estimators': 300, 'objecti...</td>\n",
       "      <td>0.684998</td>\n",
       "      <td>0.665356</td>\n",
       "      <td>0.670922</td>\n",
       "      <td>0.673759</td>\n",
       "      <td>0.008266</td>\n",
       "      <td>1</td>\n",
       "      <td>0.99121</td>\n",
       "      <td>0.990787</td>\n",
       "      <td>0.990932</td>\n",
       "      <td>0.990976</td>\n",
       "      <td>0.000176</td>\n",
       "      <td>1</td>\n",
       "      <td>0.963562</td>\n",
       "      <td>0.959312</td>\n",
       "      <td>0.965677</td>\n",
       "      <td>0.96285</td>\n",
       "      <td>0.002647</td>\n",
       "      <td>1</td>\n",
       "      <td>0.531378</td>\n",
       "      <td>0.509296</td>\n",
       "      <td>0.514025</td>\n",
       "      <td>0.518233</td>\n",
       "      <td>0.009493</td>\n",
       "      <td>1</td>\n",
       "      <td>0.765505</td>\n",
       "      <td>0.75445</td>\n",
       "      <td>0.756845</td>\n",
       "      <td>0.758933</td>\n",
       "      <td>0.004748</td>\n",
       "      <td>1</td>\n",
       "    </tr>\n",
       "  </tbody>\n",
       "</table>\n",
       "</div>"
      ],
      "text/plain": [
       "   mean_fit_time  std_fit_time  mean_score_time  std_score_time  \\\n",
       "0    2732.099049      6.438893        25.215882        0.307547   \n",
       "\n",
       "  param_max_depth param_n_estimators  param_objective  \\\n",
       "0               9                300  binary:logistic   \n",
       "\n",
       "                                              params  split0_test_f1  \\\n",
       "0  {'max_depth': 9, 'n_estimators': 300, 'objecti...        0.684998   \n",
       "\n",
       "   split1_test_f1  split2_test_f1  mean_test_f1  std_test_f1  rank_test_f1  \\\n",
       "0        0.665356        0.670922      0.673759     0.008266             1   \n",
       "\n",
       "   split0_test_Accuracy  split1_test_Accuracy  split2_test_Accuracy  \\\n",
       "0               0.99121              0.990787              0.990932   \n",
       "\n",
       "   mean_test_Accuracy  std_test_Accuracy  rank_test_Accuracy  \\\n",
       "0            0.990976           0.000176                   1   \n",
       "\n",
       "   split0_test_precision  split1_test_precision  split2_test_precision  \\\n",
       "0               0.963562               0.959312               0.965677   \n",
       "\n",
       "   mean_test_precision  std_test_precision  rank_test_precision  \\\n",
       "0              0.96285            0.002647                    1   \n",
       "\n",
       "   split0_test_recall  split1_test_recall  split2_test_recall  \\\n",
       "0            0.531378            0.509296            0.514025   \n",
       "\n",
       "   mean_test_recall  std_test_recall  rank_test_recall  split0_test_auc  \\\n",
       "0          0.518233         0.009493                 1         0.765505   \n",
       "\n",
       "   split1_test_auc  split2_test_auc  mean_test_auc  std_test_auc  \\\n",
       "0          0.75445         0.756845       0.758933      0.004748   \n",
       "\n",
       "   rank_test_auc  \n",
       "0              1  "
      ]
     },
     "execution_count": 12,
     "metadata": {},
     "output_type": "execute_result"
    }
   ],
   "source": [
    "pd.DataFrame(clf.cv_results_)"
   ]
  },
  {
   "cell_type": "code",
   "execution_count": 14,
   "metadata": {},
   "outputs": [],
   "source": [
    "pd.DataFrame(clf.cv_results_).to_csv('xg_boost_v4_GOOD_metrics.csv')"
   ]
  },
  {
   "cell_type": "code",
   "execution_count": 13,
   "metadata": {},
   "outputs": [],
   "source": [
    "#save model\n",
    "import pickle\n",
    "pickle.dump(clf.best_estimator_, open('xg_boost_v4_GOOD.sav', 'wb'))"
   ]
  },
  {
   "cell_type": "code",
   "execution_count": 45,
   "metadata": {},
   "outputs": [],
   "source": [
    "loaded_model = pickle.load(open('xg_boost_v4_GOOD.sav', 'rb'))"
   ]
  },
  {
   "cell_type": "code",
   "execution_count": null,
   "metadata": {},
   "outputs": [],
   "source": []
  },
  {
   "cell_type": "code",
   "execution_count": null,
   "metadata": {},
   "outputs": [],
   "source": []
  },
  {
   "cell_type": "code",
   "execution_count": null,
   "metadata": {},
   "outputs": [],
   "source": []
  },
  {
   "cell_type": "code",
   "execution_count": 29,
   "metadata": {},
   "outputs": [
    {
     "data": {
      "text/plain": [
       "(10000, 10000)"
      ]
     },
     "execution_count": 29,
     "metadata": {},
     "output_type": "execute_result"
    }
   ],
   "source": [
    "#generate items for metrics\n",
    "samples = np.random.choice(a=X.shape[0],size=10000,replace=False)\n",
    "predictions = clf.predict(X.iloc[samples,:])\n",
    "probas = clf.predict_proba(X.iloc[samples,:])[:,0]\n",
    "len(predictions),len(probas)"
   ]
  },
  {
   "cell_type": "code",
   "execution_count": 30,
   "metadata": {},
   "outputs": [
    {
     "data": {
      "text/plain": [
       "array([[9803,    1],\n",
       "       [  60,  136]])"
      ]
     },
     "execution_count": 30,
     "metadata": {},
     "output_type": "execute_result"
    }
   ],
   "source": [
    "confusion_matrix(y.iloc[samples],predictions)"
   ]
  },
  {
   "cell_type": "code",
   "execution_count": 32,
   "metadata": {},
   "outputs": [
    {
     "name": "stdout",
     "output_type": "stream",
     "text": [
      "              precision    recall  f1-score   support\n",
      "\n",
      "           0       0.99      1.00      1.00      9804\n",
      "           1       0.99      0.69      0.82       196\n",
      "\n",
      "    accuracy                           0.99     10000\n",
      "   macro avg       0.99      0.85      0.91     10000\n",
      "weighted avg       0.99      0.99      0.99     10000\n",
      "\n"
     ]
    }
   ],
   "source": [
    "print(classification_report(y.iloc[samples],predictions))"
   ]
  },
  {
   "cell_type": "code",
   "execution_count": 33,
   "metadata": {},
   "outputs": [
    {
     "data": {
      "text/plain": [
       "Text(0, 0.5, 'TPR')"
      ]
     },
     "execution_count": 33,
     "metadata": {},
     "output_type": "execute_result"
    },
    {
     "data": {
      "image/png": "[encoded data removed]",
      "text/plain": [
       "<Figure size 720x720 with 1 Axes>"
      ]
     },
     "metadata": {
      "needs_background": "light"
     },
     "output_type": "display_data"
    }
   ],
   "source": [
    "fpr, tpr, thresholds = roc_curve(y.iloc[samples], probas)\n",
    "plt.figure(figsize=(10,10))\n",
    "plt.plot(tpr,fpr)\n",
    "plt.xlabel('FPR')\n",
    "plt.ylabel('TPR')"
   ]
  },
  {
   "cell_type": "code",
   "execution_count": 39,
   "metadata": {},
   "outputs": [
    {
     "data": {
      "text/plain": [
       "['Delta_t_hours',\n",
       " 'HR',\n",
       " 'O2Sat',\n",
       " 'Temp',\n",
       " 'SBP',\n",
       " 'MAP',\n",
       " 'DBP',\n",
       " 'Resp',\n",
       " 'EtCO2',\n",
       " 'BaseExcess',\n",
       " 'HCO3',\n",
       " 'FiO2',\n",
       " 'pH',\n",
       " 'PaCO2',\n",
       " 'SaO2',\n",
       " 'AST',\n",
       " 'BUN',\n",
       " 'Alkalinephos',\n",
       " 'Calcium',\n",
       " 'Chloride',\n",
       " 'Creatinine',\n",
       " 'Bilirubin_direct',\n",
       " 'Glucose',\n",
       " 'Lactate',\n",
       " 'Magnesium',\n",
       " 'Phosphate',\n",
       " 'Potassium',\n",
       " 'Bilirubin_total',\n",
       " 'TroponinI',\n",
       " 'Hct',\n",
       " 'Hgb',\n",
       " 'PTT',\n",
       " 'WBC',\n",
       " 'Fibrinogen',\n",
       " 'Platelets',\n",
       " 'Age',\n",
       " 'Gender']"
      ]
     },
     "execution_count": 39,
     "metadata": {},
     "output_type": "execute_result"
    }
   ],
   "source": [
    "features"
   ]
  },
  {
   "cell_type": "code",
   "execution_count": null,
   "metadata": {},
   "outputs": [],
   "source": []
  },
  {
   "cell_type": "code",
   "execution_count": null,
   "metadata": {},
   "outputs": [],
   "source": []
  },
  {
   "cell_type": "code",
   "execution_count": 42,
   "metadata": {},
   "outputs": [],
   "source": [
    "featur_importances = pd.DataFrame()\n",
    "featur_importances['Features'] = features\n",
    "featur_importances['Importance'] = clf.best_estimator_.feature_importances_"
   ]
  },
  {
   "cell_type": "code",
   "execution_count": 44,
   "metadata": {},
   "outputs": [
    {
     "data": {
      "text/html": [
       "<div>\n",
       "<style scoped>\n",
       "    .dataframe tbody tr th:only-of-type {\n",
       "        vertical-align: middle;\n",
       "    }\n",
       "\n",
       "    .dataframe tbody tr th {\n",
       "        vertical-align: top;\n",
       "    }\n",
       "\n",
       "    .dataframe thead th {\n",
       "        text-align: right;\n",
       "    }\n",
       "</style>\n",
       "<table border=\"1\" class=\"dataframe\">\n",
       "  <thead>\n",
       "    <tr style=\"text-align: right;\">\n",
       "      <th></th>\n",
       "      <th>Features</th>\n",
       "      <th>Importance</th>\n",
       "    </tr>\n",
       "  </thead>\n",
       "  <tbody>\n",
       "    <tr>\n",
       "      <th>0</th>\n",
       "      <td>Delta_t_hours</td>\n",
       "      <td>0.057623</td>\n",
       "    </tr>\n",
       "    <tr>\n",
       "      <th>11</th>\n",
       "      <td>FiO2</td>\n",
       "      <td>0.036894</td>\n",
       "    </tr>\n",
       "    <tr>\n",
       "      <th>18</th>\n",
       "      <td>Calcium</td>\n",
       "      <td>0.033866</td>\n",
       "    </tr>\n",
       "    <tr>\n",
       "      <th>24</th>\n",
       "      <td>Magnesium</td>\n",
       "      <td>0.033842</td>\n",
       "    </tr>\n",
       "    <tr>\n",
       "      <th>3</th>\n",
       "      <td>Temp</td>\n",
       "      <td>0.033279</td>\n",
       "    </tr>\n",
       "    <tr>\n",
       "      <th>10</th>\n",
       "      <td>HCO3</td>\n",
       "      <td>0.031915</td>\n",
       "    </tr>\n",
       "    <tr>\n",
       "      <th>17</th>\n",
       "      <td>Alkalinephos</td>\n",
       "      <td>0.031392</td>\n",
       "    </tr>\n",
       "    <tr>\n",
       "      <th>32</th>\n",
       "      <td>WBC</td>\n",
       "      <td>0.029822</td>\n",
       "    </tr>\n",
       "    <tr>\n",
       "      <th>23</th>\n",
       "      <td>Lactate</td>\n",
       "      <td>0.029675</td>\n",
       "    </tr>\n",
       "    <tr>\n",
       "      <th>16</th>\n",
       "      <td>BUN</td>\n",
       "      <td>0.029209</td>\n",
       "    </tr>\n",
       "    <tr>\n",
       "      <th>20</th>\n",
       "      <td>Creatinine</td>\n",
       "      <td>0.029118</td>\n",
       "    </tr>\n",
       "    <tr>\n",
       "      <th>34</th>\n",
       "      <td>Platelets</td>\n",
       "      <td>0.028493</td>\n",
       "    </tr>\n",
       "    <tr>\n",
       "      <th>26</th>\n",
       "      <td>Potassium</td>\n",
       "      <td>0.027666</td>\n",
       "    </tr>\n",
       "    <tr>\n",
       "      <th>31</th>\n",
       "      <td>PTT</td>\n",
       "      <td>0.027456</td>\n",
       "    </tr>\n",
       "    <tr>\n",
       "      <th>19</th>\n",
       "      <td>Chloride</td>\n",
       "      <td>0.027361</td>\n",
       "    </tr>\n",
       "    <tr>\n",
       "      <th>30</th>\n",
       "      <td>Hgb</td>\n",
       "      <td>0.027158</td>\n",
       "    </tr>\n",
       "    <tr>\n",
       "      <th>27</th>\n",
       "      <td>Bilirubin_total</td>\n",
       "      <td>0.026395</td>\n",
       "    </tr>\n",
       "    <tr>\n",
       "      <th>35</th>\n",
       "      <td>Age</td>\n",
       "      <td>0.026316</td>\n",
       "    </tr>\n",
       "    <tr>\n",
       "      <th>15</th>\n",
       "      <td>AST</td>\n",
       "      <td>0.025991</td>\n",
       "    </tr>\n",
       "    <tr>\n",
       "      <th>29</th>\n",
       "      <td>Hct</td>\n",
       "      <td>0.025838</td>\n",
       "    </tr>\n",
       "    <tr>\n",
       "      <th>28</th>\n",
       "      <td>TroponinI</td>\n",
       "      <td>0.025776</td>\n",
       "    </tr>\n",
       "    <tr>\n",
       "      <th>33</th>\n",
       "      <td>Fibrinogen</td>\n",
       "      <td>0.025715</td>\n",
       "    </tr>\n",
       "    <tr>\n",
       "      <th>25</th>\n",
       "      <td>Phosphate</td>\n",
       "      <td>0.025689</td>\n",
       "    </tr>\n",
       "    <tr>\n",
       "      <th>36</th>\n",
       "      <td>Gender</td>\n",
       "      <td>0.025363</td>\n",
       "    </tr>\n",
       "    <tr>\n",
       "      <th>21</th>\n",
       "      <td>Bilirubin_direct</td>\n",
       "      <td>0.024948</td>\n",
       "    </tr>\n",
       "    <tr>\n",
       "      <th>22</th>\n",
       "      <td>Glucose</td>\n",
       "      <td>0.023624</td>\n",
       "    </tr>\n",
       "    <tr>\n",
       "      <th>14</th>\n",
       "      <td>SaO2</td>\n",
       "      <td>0.023561</td>\n",
       "    </tr>\n",
       "    <tr>\n",
       "      <th>8</th>\n",
       "      <td>EtCO2</td>\n",
       "      <td>0.023497</td>\n",
       "    </tr>\n",
       "    <tr>\n",
       "      <th>12</th>\n",
       "      <td>pH</td>\n",
       "      <td>0.023418</td>\n",
       "    </tr>\n",
       "    <tr>\n",
       "      <th>4</th>\n",
       "      <td>SBP</td>\n",
       "      <td>0.023147</td>\n",
       "    </tr>\n",
       "    <tr>\n",
       "      <th>13</th>\n",
       "      <td>PaCO2</td>\n",
       "      <td>0.023053</td>\n",
       "    </tr>\n",
       "    <tr>\n",
       "      <th>9</th>\n",
       "      <td>BaseExcess</td>\n",
       "      <td>0.021868</td>\n",
       "    </tr>\n",
       "    <tr>\n",
       "      <th>7</th>\n",
       "      <td>Resp</td>\n",
       "      <td>0.020078</td>\n",
       "    </tr>\n",
       "    <tr>\n",
       "      <th>1</th>\n",
       "      <td>HR</td>\n",
       "      <td>0.019688</td>\n",
       "    </tr>\n",
       "    <tr>\n",
       "      <th>6</th>\n",
       "      <td>DBP</td>\n",
       "      <td>0.019235</td>\n",
       "    </tr>\n",
       "    <tr>\n",
       "      <th>2</th>\n",
       "      <td>O2Sat</td>\n",
       "      <td>0.016060</td>\n",
       "    </tr>\n",
       "    <tr>\n",
       "      <th>5</th>\n",
       "      <td>MAP</td>\n",
       "      <td>0.015971</td>\n",
       "    </tr>\n",
       "  </tbody>\n",
       "</table>\n",
       "</div>"
      ],
      "text/plain": [
       "            Features  Importance\n",
       "0      Delta_t_hours    0.057623\n",
       "11              FiO2    0.036894\n",
       "18           Calcium    0.033866\n",
       "24         Magnesium    0.033842\n",
       "3               Temp    0.033279\n",
       "10              HCO3    0.031915\n",
       "17      Alkalinephos    0.031392\n",
       "32               WBC    0.029822\n",
       "23           Lactate    0.029675\n",
       "16               BUN    0.029209\n",
       "20        Creatinine    0.029118\n",
       "34         Platelets    0.028493\n",
       "26         Potassium    0.027666\n",
       "31               PTT    0.027456\n",
       "19          Chloride    0.027361\n",
       "30               Hgb    0.027158\n",
       "27   Bilirubin_total    0.026395\n",
       "35               Age    0.026316\n",
       "15               AST    0.025991\n",
       "29               Hct    0.025838\n",
       "28         TroponinI    0.025776\n",
       "33        Fibrinogen    0.025715\n",
       "25         Phosphate    0.025689\n",
       "36            Gender    0.025363\n",
       "21  Bilirubin_direct    0.024948\n",
       "22           Glucose    0.023624\n",
       "14              SaO2    0.023561\n",
       "8              EtCO2    0.023497\n",
       "12                pH    0.023418\n",
       "4                SBP    0.023147\n",
       "13             PaCO2    0.023053\n",
       "9         BaseExcess    0.021868\n",
       "7               Resp    0.020078\n",
       "1                 HR    0.019688\n",
       "6                DBP    0.019235\n",
       "2              O2Sat    0.016060\n",
       "5                MAP    0.015971"
      ]
     },
     "execution_count": 44,
     "metadata": {},
     "output_type": "execute_result"
    }
   ],
   "source": [
    "featur_importances.sort_values('Importance',ascending=False)"
   ]
  },
  {
   "cell_type": "code",
   "execution_count": null,
   "metadata": {},
   "outputs": [],
   "source": [
    "# save model to file\n",
    "pickle.dump(model, open(\"pima.pickle.dat\", \"wb\"))\n",
    "2\n",
    "# load model from file\n",
    "loaded_model = pickle.load(open(\"pima.pickle.dat\", \"rb\"))"
   ]
  },
  {
   "cell_type": "code",
   "execution_count": 56,
   "metadata": {},
   "outputs": [],
   "source": [
    "import pickle\n",
    "import matplotlib.pyplot as plt\n",
    "%matplotlib inline"
   ]
  },
  {
   "cell_type": "code",
   "execution_count": 52,
   "metadata": {},
   "outputs": [],
   "source": [
    "pickle.dump(clf.best_estimator_, open(\"xgboost_v1.pima.pickle.dat\",\"wb\"))"
   ]
  },
  {
   "cell_type": "code",
   "execution_count": 62,
   "metadata": {},
   "outputs": [
    {
     "data": {
      "text/plain": [
       "<Figure size 864x864 with 0 Axes>"
      ]
     },
     "metadata": {},
     "output_type": "display_data"
    },
    {
     "data": {
      "image/png": "[encoded data removed]",
      "text/plain": [
       "<Figure size 432x288 with 1 Axes>"
      ]
     },
     "metadata": {
      "needs_background": "light"
     },
     "output_type": "display_data"
    }
   ],
   "source": [
    "plt.figure(figsize=(12,12))\n",
    "featur_importances.sort_values('scroe',ascending=False).plot.bar()\n",
    "plt.show()"
   ]
  },
  {
   "cell_type": "code",
   "execution_count": 38,
   "metadata": {},
   "outputs": [
    {
     "data": {
      "text/plain": [
       "0.7407407407407407"
      ]
     },
     "execution_count": 38,
     "metadata": {},
     "output_type": "execute_result"
    }
   ],
   "source": [
    "(.85 + .50)**-1"
   ]
  },
  {
   "cell_type": "code",
   "execution_count": null,
   "metadata": {},
   "outputs": [],
   "source": []
  }
 ],
 "metadata": {
  "kernelspec": {
   "display_name": "Python 3",
   "language": "python",
   "name": "python3"
  },
  "language_info": {
   "codemirror_mode": {
    "name": "ipython",
    "version": 3
   },
   "file_extension": ".py",
   "mimetype": "text/x-python",
   "name": "python",
   "nbconvert_exporter": "python",
   "pygments_lexer": "ipython3",
   "version": "3.7.3"
  }
 },
 "nbformat": 4,
 "nbformat_minor": 4
}
